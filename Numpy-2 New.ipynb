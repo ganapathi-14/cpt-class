{
 "cells": [
  {
   "cell_type": "code",
   "execution_count": 28,
   "id": "1aff2975-34da-4191-93f4-9baff939ed07",
   "metadata": {},
   "outputs": [
    {
     "name": "stdin",
     "output_type": "stream",
     "text": [
      "Enter 3 numbers for array a, space separated:  1 2 3 \n",
      "Enter 3 numbers for array b, space separated:  4 5 6\n"
     ]
    },
    {
     "name": "stdout",
     "output_type": "stream",
     "text": [
      "Vertical Stack:\n",
      " [[1 2 3]\n",
      " [4 5 6]]\n",
      "Horizontal Stack:\n",
      " [1 2 3 4 5 6]\n",
      "Elements 5 access  5\n",
      "Elements 5 access  5\n"
     ]
    }
   ],
   "source": [
    "'''vertical and horizontal - vstack and hstack\n",
    "code to take two arrays a and b integrate a and b vertically and horizontzlly'''\n",
    "\n",
    "import numpy as np\n",
    "\n",
    "a = list(map(int, input(\"Enter 3 numbers for array a, space separated: \").split()))\n",
    "b = list(map(int, input(\"Enter 3 numbers for array b, space separated: \").split()))\n",
    "\n",
    "a = np.array(a)\n",
    "b = np.array(b)\n",
    "print(\"Vertical Stack:\\n\", np.vstack((a, b))) #also using [a,b] in hstack,vstack\n",
    "print(\"Horizontal Stack:\\n\", np.hstack((a, b)))\n",
    "\n",
    "v=np.vstack((a,b))\n",
    "print(\"Elements 5 access \",v[1,1])\n",
    "print(\"Elements 5 access \",v[1][1])"
   ]
  },
  {
   "cell_type": "code",
   "execution_count": 10,
   "id": "41d7c940-0dec-4008-9d9a-60a4804cd052",
   "metadata": {},
   "outputs": [
    {
     "name": "stdout",
     "output_type": "stream",
     "text": [
      "[1 2 3 4 5 6]\n"
     ]
    }
   ],
   "source": [
    "import numpy as np\n",
    "a = np.array([1, 2, 3])\n",
    "b = np.array([4, 5, 6])\n",
    "\n",
    "res = np.hstack((a, b))\n",
    "print(res)"
   ]
  },
  {
   "cell_type": "code",
   "execution_count": 12,
   "id": "dcff9722-e562-48c3-8d2a-dddc0f0bcfb6",
   "metadata": {},
   "outputs": [
    {
     "name": "stdout",
     "output_type": "stream",
     "text": [
      "[[1 2 5 6]\n",
      " [3 4 7 8]]\n"
     ]
    }
   ],
   "source": [
    "import numpy as np\n",
    "a = np.array([[1, 2], [3, 4]])\n",
    "b = np.array([[5, 6], [7, 8]])\n",
    "\n",
    "res = np.hstack((a, b))\n",
    "print(res)"
   ]
  },
  {
   "cell_type": "code",
   "execution_count": 68,
   "id": "ea893640-0ca8-4e8d-8b30-fdea401b17bb",
   "metadata": {},
   "outputs": [
    {
     "name": "stdout",
     "output_type": "stream",
     "text": [
      "Horizontal Stack (1D arrays):\n",
      " [1 2 3 4 5 6]\n",
      "\n",
      "Horizontal Stack (2D arrays):\n",
      " [[ 7  8 11 12]\n",
      " [ 9 10 13 14]]\n",
      "\n",
      "Vertical Stack (1D arrays):\n",
      " [[1 2 3]\n",
      " [4 5 6]]\n",
      "\n",
      "Vertical Stack (2D arrays):\n",
      " [[ 7  8]\n",
      " [ 9 10]\n",
      " [11 12]\n",
      " [13 14]]\n"
     ]
    }
   ],
   "source": [
    "import numpy as np\n",
    "\n",
    "# Create sample arrays\n",
    "array1 = np.array([1, 2, 3])\n",
    "array2 = np.array([4, 5, 6])\n",
    "array3 = np.array([[7, 8], [9, 10]])\n",
    "array4 = np.array([[11, 12], [13, 14]])\n",
    "\n",
    "# Horizontal stacking\n",
    "h_stacked = np.hstack((array1, array2))\n",
    "print(\"Horizontal Stack (1D arrays):\\n\", h_stacked)\n",
    "\n",
    "h_stacked_2d = np.hstack((array3, array4))\n",
    "print(\"\\nHorizontal Stack (2D arrays):\\n\", h_stacked_2d)\n",
    "\n",
    "# Vertical stacking\n",
    "v_stacked = np.vstack((array1, array2))\n",
    "print(\"\\nVertical Stack (1D arrays):\\n\", v_stacked)\n",
    "\n",
    "v_stacked_2d = np.vstack((array3, array4))\n",
    "print(\"\\nVertical Stack (2D arrays):\\n\", v_stacked_2d)"
   ]
  },
  {
   "cell_type": "code",
   "execution_count": 40,
   "id": "dc6f6843-aed2-4d81-ab4b-6f487467b147",
   "metadata": {},
   "outputs": [
    {
     "name": "stdin",
     "output_type": "stream",
     "text": [
      "Enter Numbers separated by spaces :  1 2 3 4 5 6 7 8 9\n"
     ]
    },
    {
     "name": "stdout",
     "output_type": "stream",
     "text": [
      "Odd Numbers List :  [1 3 5 7 9]\n"
     ]
    }
   ],
   "source": [
    "'''code to extract all the odd numbers from user input and print them in a list using array of numpy\n",
    "input: 1 2 3 4 5 9 8 7 6\n",
    "output: 1,3,5,9,7'''\n",
    "import numpy as n\n",
    "data=input(\"Enter Numbers separated by spaces : \")\n",
    "arr=np.array(list(map(int,data.split())))\n",
    "odd=arr[arr%2==1]\n",
    "print(\"Odd Numbers List : \",odd)\n"
   ]
  },
  {
   "cell_type": "code",
   "execution_count": 44,
   "id": "8b18c0db-db13-427f-8817-3eb8cce8a98f",
   "metadata": {},
   "outputs": [
    {
     "name": "stdin",
     "output_type": "stream",
     "text": [
      "Enter numbers separated by space:  1 2 3 4 5 6 7 8 9\n"
     ]
    },
    {
     "name": "stdout",
     "output_type": "stream",
     "text": [
      "Modified array: [-1  2 -1  4 -1  6 -1  8 -1]\n",
      "Modified array: [-1, 2, -1, 4, -1, 6, -1, 8, -1]\n"
     ]
    }
   ],
   "source": [
    "# Now Replace odd places with -1\n",
    "import numpy as np\n",
    "# Input numbers\n",
    "numbers = list(map(int, input(\"Enter numbers separated by space: \").split()))\n",
    "# Convert to numpy array\n",
    "arr = np.array(numbers)\n",
    "# Replace odd numbers with -1\n",
    "arr[arr % 2 != 0] = -1\n",
    "'''arr = np.where(arr % 2 != 0, -1, arr)'''\n",
    "# Print the modified array\n",
    "print(\"Modified array:\", arr)\n",
    "print(\"Modified array:\", arr.tolist())"
   ]
  },
  {
   "cell_type": "code",
   "execution_count": 54,
   "id": "997d188b-1bbe-448a-adc9-f0b8e799a84d",
   "metadata": {},
   "outputs": [
    {
     "name": "stdin",
     "output_type": "stream",
     "text": [
      "Enter Numbers separated by spaces :  1 2 3 4 5 6 7 8 9\n"
     ]
    },
    {
     "name": "stdout",
     "output_type": "stream",
     "text": [
      " List :  [True False True False True False True False True]\n"
     ]
    }
   ],
   "source": [
    "#Replace True or False \n",
    "import numpy as n\n",
    "data=input(\"Enter Numbers separated by spaces : \")\n",
    "arr=np.array(list(map(int,data.split())),dtype=object)\n",
    "arr[arr%2==1]=True\n",
    "arr[arr%2==0]=False\n",
    "print(\" List : \",arr)"
   ]
  },
  {
   "cell_type": "code",
   "execution_count": 66,
   "id": "3c4d16b0-e4fa-4543-a4d4-ef15d1fee80c",
   "metadata": {},
   "outputs": [
    {
     "name": "stdin",
     "output_type": "stream",
     "text": [
      "Enter Numbers separated by spaces:  1 2 3 4 5\n"
     ]
    },
    {
     "name": "stdout",
     "output_type": "stream",
     "text": [
      "List: [False False  True False False]\n",
      "[ True  True False  True  True]\n",
      "List: [ True  True  True  True  True]\n"
     ]
    }
   ],
   "source": [
    "#Multiple with 3 is True remaining is  False\n",
    "\n",
    "import numpy as np\n",
    "data = input(\"Enter Numbers separated by spaces: \")\n",
    "arr = np.array(list(map(int, data.split())),dtype=object)\n",
    "# Mark multiples of 3 as True, others as False\n",
    "arr = arr % 3 == 0\n",
    "print(\"List:\", arr)\n",
    "\n",
    "\n",
    "mask=arr % 3 == 0\n",
    "print(mask)\n",
    "\n",
    "# Set multiples of 3 to True\n",
    "arr[arr % 3 == 0] = True\n",
    "# Set all other elements to False\n",
    "arr[arr != True] = False  # everything not True becomes False\n",
    "print(\"List:\", arr)\n"
   ]
  },
  {
   "cell_type": "code",
   "execution_count": 30,
   "id": "ff7992dd-9d00-4038-855b-b66af74ede09",
   "metadata": {},
   "outputs": [
    {
     "name": "stdin",
     "output_type": "stream",
     "text": [
      "Enter numbers separated by space:  1 2 3 4 5 6 7 8 9\n"
     ]
    },
    {
     "name": "stdout",
     "output_type": "stream",
     "text": [
      "Odd numbers: 1,3,5,7,9\n"
     ]
    }
   ],
   "source": [
    "'''code to extract all the odd numbers from user input and print them in a list using array of numpy\n",
    "input: 1 2 3 4 5 9 8 7 6\n",
    "output: 1,3,5,9,7'''\n",
    "\n",
    "import numpy as np\n",
    "# Take space-separated numbers as input\n",
    "numbers = list(map(int, input(\"Enter numbers separated by space: \").split()))\n",
    "# Convert to NumPy array\n",
    "arr = np.array(numbers)\n",
    "# Use boolean indexing to filter odd numbers\n",
    "odd_numbers = arr[arr % 2 != 0]\n",
    "'''# Find indices where elements are odd\n",
    "odd_indices = np.where(arr % 2 != 0)\n",
    "# Extract odd numbers using the indices\n",
    "odd_numbers = arr[odd_indices]'''\n",
    "# Print the result as a comma-separated list\n",
    "print(\"Odd numbers:\", ','.join(map(str, odd_numbers)))\n"
   ]
  },
  {
   "cell_type": "code",
   "execution_count": 70,
   "id": "826c879b-6027-46c4-812e-56ab7bc77698",
   "metadata": {},
   "outputs": [
    {
     "name": "stdout",
     "output_type": "stream",
     "text": [
      "[2 4 6]\n"
     ]
    }
   ],
   "source": [
    "import numpy as np\n",
    "a = np.array([1, 2, 3])\n",
    "b = a * 2  # multiplies each element by 2\n",
    "print(b)  # Output: [2 4 6]\n"
   ]
  },
  {
   "cell_type": "code",
   "execution_count": 102,
   "id": "d9755d20-b49f-499d-b538-38fe0b5fa2e2",
   "metadata": {},
   "outputs": [
    {
     "name": "stdout",
     "output_type": "stream",
     "text": [
      "Element at [0,1]: 2\n",
      "First row: [1 2 3]\n",
      "Second row: [4 5 6]\n",
      "\n",
      "First Row : \n",
      " [[2 3]\n",
      " [5 6]]\n",
      "\n",
      "And Total rows:\n",
      " [[1 2 3]\n",
      " [4 5 6]]\n",
      "And Total rows:\n",
      " [[4 5 6]]\n",
      "\n",
      "Modify : \n",
      " [[100   2   3]\n",
      " [  4   5   6]]\n"
     ]
    }
   ],
   "source": [
    "import numpy as np\n",
    "arr=np.array([[1,2,3], [4,5,6]])\n",
    "print(\"Element at [0,1]:\",arr[0,1])\n",
    "print(\"First row:\", arr[0,:])\n",
    "print(\"Second row:\", arr[1,:])\n",
    "print(\"\\nFirst Row : \\n\",arr[:,1:])\n",
    "\n",
    "print(\"\\nAnd Total rows:\\n\", arr[0:])\n",
    "print(\"And Total rows:\\n\", arr[1:])\n",
    "\n",
    "arr[0,0]=100\n",
    "print(\"\\nModify : \\n\",arr)\n",
    "\n"
   ]
  },
  {
   "cell_type": "code",
   "execution_count": 131,
   "id": "d857d8ce-c05a-45e9-aac8-a021d2a77461",
   "metadata": {},
   "outputs": [
    {
     "name": "stdout",
     "output_type": "stream",
     "text": [
      "Mean Ignoring NaN :  2.75\n",
      "Mean Ignoring NaN :  11.0\n",
      "Sum :  nan\n",
      "std Ignoring NaN: 1.479019945774904\n",
      "Sum:  11\n",
      "Std  1.479019945774904\n"
     ]
    }
   ],
   "source": [
    "import numpy as np\n",
    "arr= np.array([1,2,3, np.nan, 5])\n",
    "print(\"Mean Ignoring NaN : \",np.nanmean(arr))\n",
    "print(\"Mean Ignoring NaN : \",np.nansum(arr))\n",
    "print(\"Sum : \",np.sum(arr))\n",
    "#Sqrt1.N Ei = 1 to N(x~1=u)**2\n",
    "print(\"std Ignoring NaN:\", np.std(arr[~np.isnan (arr)]))\n",
    "arr= np.array([1,2,3, 5])\n",
    "print(\"Sum: \" , np.sum(arr))\n",
    "print(\"Std \" , np.std(arr))"
   ]
  },
  {
   "cell_type": "code",
   "execution_count": 133,
   "id": "c35d2496-5d8a-488b-8d59-60d3eccb6020",
   "metadata": {},
   "outputs": [
    {
     "name": "stdout",
     "output_type": "stream",
     "text": [
      "replace NaN with 0: [1. 0. 3. 4. 5.]\n"
     ]
    }
   ],
   "source": [
    "#replace NaN\n",
    "import numpy as np\n",
    "arr= np.array([1, np. nan, 3, 4, 5])\n",
    "print(\"replace NaN with 0:\", np.where(np.isnan(arr), 0, arr))"
   ]
  },
  {
   "cell_type": "code",
   "execution_count": 159,
   "id": "f1f4cedb-6180-4a15-9898-34dd343a15aa",
   "metadata": {},
   "outputs": [
    {
     "name": "stdout",
     "output_type": "stream",
     "text": [
      "[1 2 9 9 8]\n",
      "[1. 2. 3. 4.]\n",
      "['1.5' '2.9' '9.8']\n"
     ]
    },
    {
     "ename": "ValueError",
     "evalue": "invalid literal for int() with base 10: '4.5'",
     "output_type": "error",
     "traceback": [
      "\u001b[1;31m---------------------------------------------------------------------------\u001b[0m",
      "\u001b[1;31mValueError\u001b[0m                                Traceback (most recent call last)",
      "Cell \u001b[1;32mIn[159], line 15\u001b[0m\n\u001b[0;32m     10\u001b[0m \u001b[38;5;28mprint\u001b[39m(arr\u001b[38;5;241m.\u001b[39mastype(\u001b[38;5;28mstr\u001b[39m))  \u001b[38;5;66;03m# Convert numbers to strings\u001b[39;00m\n\u001b[0;32m     13\u001b[0m arr \u001b[38;5;241m=\u001b[39m np\u001b[38;5;241m.\u001b[39marray([\u001b[38;5;124m\"\u001b[39m\u001b[38;5;124m1\u001b[39m\u001b[38;5;124m\"\u001b[39m, \u001b[38;5;124m\"\u001b[39m\u001b[38;5;124m2\u001b[39m\u001b[38;5;124m\"\u001b[39m, \u001b[38;5;124m\"\u001b[39m\u001b[38;5;124m3\u001b[39m\u001b[38;5;124m\"\u001b[39m, \u001b[38;5;124m\"\u001b[39m\u001b[38;5;124m4.5\u001b[39m\u001b[38;5;124m\"\u001b[39m])\n\u001b[1;32m---> 15\u001b[0m \u001b[38;5;28mprint\u001b[39m(arr\u001b[38;5;241m.\u001b[39mastype(\u001b[38;5;28mint\u001b[39m))  \u001b[38;5;66;03m# Converts strings are integers\u001b[39;00m\n\u001b[0;32m     17\u001b[0m arr \u001b[38;5;241m=\u001b[39m np\u001b[38;5;241m.\u001b[39marray([\u001b[38;5;241m0\u001b[39m, \u001b[38;5;241m1\u001b[39m, \u001b[38;5;241m7\u001b[39m, \u001b[38;5;241m0\u001b[39m])\n\u001b[0;32m     18\u001b[0m \u001b[38;5;28mprint\u001b[39m(arr\u001b[38;5;241m.\u001b[39mastype(\u001b[38;5;28mbool\u001b[39m))  \u001b[38;5;66;03m# Convert numbers to boolean (0 -> False, nonzero -> True)\u001b[39;00m\n",
      "\u001b[1;31mValueError\u001b[0m: invalid literal for int() with base 10: '4.5'"
     ]
    }
   ],
   "source": [
    "import numpy as np\n",
    "\n",
    "arr = np.array([1.5, 2, 9, 9, 8])\n",
    "print(arr.astype(np.int32))  # Convert float to int (truncates decimals)\n",
    "\n",
    "arr = np.array([1, 2, 3, 4])\n",
    "print(arr.astype(np.float64))  # Convert int to float\n",
    "\n",
    "arr = np.array([1.5, 2.9, 9.8])\n",
    "print(arr.astype(str))  # Convert numbers to strings\n",
    "\n",
    "\n",
    "arr = np.array([\"1\", \"2\", \"3\", \"4.5\"])\n",
    "\n",
    "arr_float = arr.astype(float)  # Convert all strings to float first\n",
    "arr_int = arr_float.astype(int)  # Then convert floats to int (drops decimals)\n",
    "\n",
    "print(arr_int)\n",
    "int(arr.astype(int))  # Converts strings are integers\n",
    "\n",
    "arr = np.array([0, 1, 7, 0])\n",
    "print(arr.astype(bool))  # Convert numbers to boolean (0 -> False, nonzero -> True)\n",
    "\n",
    "arr = np.array([True, True, False, True])\n",
    "print(arr.astype(np.int32))\n",
    "\n",
    "arr= np.array ([1.5, 2.9, 9.8])\n",
    "print(arr.astype(np.complex128))\n",
    "\n",
    "arr = np.array([1, 2, 3, 4])\n",
    "print(arr.astype(np.int8))\n",
    "\n",
    "arr = np.array([20250802, 19991224])\n",
    "print(arr.astype('datetime64[D]'))"
   ]
  },
  {
   "cell_type": "code",
   "execution_count": null,
   "id": "2600b178-3d44-449b-be5b-64034de6b161",
   "metadata": {},
   "outputs": [],
   "source": []
  }
 ],
 "metadata": {
  "kernelspec": {
   "display_name": "Python 3 (ipykernel)",
   "language": "python",
   "name": "python3"
  },
  "language_info": {
   "codemirror_mode": {
    "name": "ipython",
    "version": 3
   },
   "file_extension": ".py",
   "mimetype": "text/x-python",
   "name": "python",
   "nbconvert_exporter": "python",
   "pygments_lexer": "ipython3",
   "version": "3.12.7"
  }
 },
 "nbformat": 4,
 "nbformat_minor": 5
}
