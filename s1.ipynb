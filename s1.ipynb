{
 "cells": [
  {
   "cell_type": "code",
   "execution_count": 5,
   "id": "b0f115e7-4c4c-4ca7-b7a6-575d7e4ebdc9",
   "metadata": {},
   "outputs": [
    {
     "name": "stdout",
     "output_type": "stream",
     "text": [
      "Name:Tony,RollNo:101\n",
      "Name:Mike,RollNo:103\n"
     ]
    }
   ],
   "source": [
    "class student:\n",
    "    def __init__(self,name,num):\n",
    "        self.name=name\n",
    "        self.num=num\n",
    "    def display(self):\n",
    "        print(f\"Name:{self.name},RollNo:{self.num}\")\n",
    "s1=student('Tony',101)\n",
    "s2=student('Mike',103)\n",
    "s1.display()\n",
    "s2.display()"
   ]
  },
  {
   "cell_type": "code",
   "execution_count": 10,
   "id": "db37be03-f79b-401d-9c19-7c6daf79a93e",
   "metadata": {},
   "outputs": [
    {
     "name": "stdin",
     "output_type": "stream",
     "text": [
      "Enter the value of length :  2\n",
      "Enter the value of breadth :  5\n"
     ]
    },
    {
     "name": "stdout",
     "output_type": "stream",
     "text": [
      "Area of a Rectangle is :  10\n",
      "Perimter of a rectangle is :  14\n"
     ]
    }
   ],
   "source": [
    "#calculating the area and perimeter of  a Retectangle by taking a user defined input as a object and class as rectangle ,return the values to display\n",
    "class rectangle:\n",
    "    def __init__(self,l,b):\n",
    "        self.l=l\n",
    "        self.b=b\n",
    "    def area(self):\n",
    "        return self.l*self.b\n",
    "    def peri(self):\n",
    "        return 2*self.l+2*self.b\n",
    "l=int(input(\"Enter the value of length : \"))\n",
    "b=int(input(\"Enter the value of breadth : \"))\n",
    "r=rectangle(l,b)\n",
    "print(\"Area of a Rectangle is : \",r.area())\n",
    "print(\"Perimter of a rectangle is : \",r.peri())\n",
    "\n"
   ]
  },
  {
   "cell_type": "code",
   "execution_count": 12,
   "id": "719fcf8b-5029-4468-b3c3-d1f963854d5a",
   "metadata": {},
   "outputs": [
    {
     "name": "stdout",
     "output_type": "stream",
     "text": [
      "var: 1100\n"
     ]
    }
   ],
   "source": [
    "#calling a methid from another method in a single class\n",
    "class abc:\n",
    "    def __init__(self,var):\n",
    "        self.var=var\n",
    "    def display(self):\n",
    "        print(\"var:\",self.var)\n",
    "    def call(self):\n",
    "        self.var+=1000\n",
    "        self.display() \n",
    "obj=abc(100)\n",
    "obj.call()"
   ]
  },
  {
   "cell_type": "code",
   "execution_count": 23,
   "id": "e3b55f7d-53ea-4503-a584-687e3c0f8067",
   "metadata": {},
   "outputs": [
    {
     "name": "stdout",
     "output_type": "stream",
     "text": [
      "Var: 10\n",
      "Var: 100\n"
     ]
    }
   ],
   "source": [
    "#code for a class method to call a function ,which is defined in global name Space\n",
    "def globe(x):\n",
    "    return x*10\n",
    "class abc():\n",
    "    def __init__(self,var):\n",
    "        self.var=var\n",
    "    def display(self):\n",
    "        print(\"Var:\",self.var)\n",
    "    def modify(self):\n",
    "        self.var=globe(self.var)\n",
    "obj=abc(10)\n",
    "obj.display()\n",
    "obj.modify()\n",
    "obj.display()"
   ]
  },
  {
   "cell_type": "code",
   "execution_count": 29,
   "id": "19b5e97e-1f40-47ec-bdfb-6d3c6f4110c3",
   "metadata": {},
   "outputs": [
    {
     "name": "stdin",
     "output_type": "stream",
     "text": [
      "Enter the marks of Sai in subject 1 :  99\n",
      "Enter the marks of Sai in subject 2 :  98\n",
      "Enter the marks of Sai in subject 3 :  97\n",
      "Enter the marks of Gana in subject 1 :  3\n",
      "Enter the marks of Gana in subject 2 :  6\n",
      "Enter the marks of Gana in subject 3 :  7\n"
     ]
    },
    {
     "name": "stdout",
     "output_type": "stream",
     "text": [
      "Sai got [99, 98, 97]\n",
      "Gana got [3, 6, 7]\n"
     ]
    }
   ],
   "source": [
    "#Question in my camera\n",
    "class student:\n",
    "    def __init__(self,name):\n",
    "        self.marks=[]\n",
    "        self.name=name\n",
    "    def entermarks(self):\n",
    "       for i in range(3):\n",
    "        m=int(input(\"Enter the marks of %s in subject %d : \"%(self.name,i+1))   )\n",
    "        self.marks.append(m)\n",
    "    def display(self):\n",
    "        print(self.name,\"got\",self.marks)\n",
    "s1=student(\"Sai\")\n",
    "s1.entermarks()\n",
    "s2=student(\"Gana\")\n",
    "s2.entermarks()\n",
    "s1.display()\n",
    "s2.display()\n",
    "        "
   ]
  },
  {
   "cell_type": "code",
   "execution_count": null,
   "id": "d5a775de-52db-4450-b69f-5f333800ec2a",
   "metadata": {},
   "outputs": [],
   "source": []
  }
 ],
 "metadata": {
  "kernelspec": {
   "display_name": "Python 3 (ipykernel)",
   "language": "python",
   "name": "python3"
  },
  "language_info": {
   "codemirror_mode": {
    "name": "ipython",
    "version": 3
   },
   "file_extension": ".py",
   "mimetype": "text/x-python",
   "name": "python",
   "nbconvert_exporter": "python",
   "pygments_lexer": "ipython3",
   "version": "3.12.7"
  }
 },
 "nbformat": 4,
 "nbformat_minor": 5
}
