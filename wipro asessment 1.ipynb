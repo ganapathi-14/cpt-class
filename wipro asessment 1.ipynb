{
 "cells": [
  {
   "cell_type": "code",
   "execution_count": null,
   "id": "620ab6e8-5b0a-49ea-839e-42198bddf3b8",
   "metadata": {},
   "outputs": [],
   "source": [
    "#Exception Handling"
   ]
  },
  {
   "cell_type": "code",
   "execution_count": 13,
   "id": "180fc81c-876b-42a5-a0f6-01b68dc5f15a",
   "metadata": {},
   "outputs": [
    {
     "name": "stdin",
     "output_type": "stream",
     "text": [
      "Enter the Numerator :  5\n",
      "Enter the denominator :  0\n"
     ]
    },
    {
     "name": "stdout",
     "output_type": "stream",
     "text": [
      "Denominator Can't be Zero\n"
     ]
    }
   ],
   "source": [
    "#ZeroDivisionError\n",
    "\n",
    "num=int(input(\"Enter the Numerator : \"))\n",
    "deno=int(input(\"Enter the denominator : \"))\n",
    "try:\n",
    "    quo=num/deno\n",
    "    print(\"Quotient : \",quo)\n",
    "except ZeroDivisionError :\n",
    "    print(\"Denominator Can't be Zero\")"
   ]
  },
  {
   "cell_type": "code",
   "execution_count": 31,
   "id": "8b4846cc-30e0-4cfc-9d41-6b3a1363975f",
   "metadata": {},
   "outputs": [
    {
     "name": "stdin",
     "output_type": "stream",
     "text": [
      "Enter Number :   deno=int(input(\"Enter the denominator : \"))\n"
     ]
    },
    {
     "name": "stdout",
     "output_type": "stream",
     "text": [
      "Number should be entered...Program Trminated!!!\n",
      "Bye\n"
     ]
    }
   ],
   "source": [
    "try:\n",
    "    num=int(input(\"Enter Number : \"))\n",
    "    print(num*4)\n",
    "except (KeyboardInterrupt,ValueError,TypeError):\n",
    " print(\"Number should be entered...Program Trminated!!!\")\n",
    "except ValueError:\n",
    " print(\"Please check before you enter the data type\")\n",
    "print(\"Bye\")"
   ]
  },
  {
   "cell_type": "code",
   "execution_count": 35,
   "id": "d1e86de2-a341-44e5-9ac6-ddb0336b723e",
   "metadata": {},
   "outputs": [
    {
     "name": "stdout",
     "output_type": "stream",
     "text": [
      "11\n",
      "Exception Occured\n"
     ]
    }
   ],
   "source": [
    "#raise [exception [, args[,traceback]]]\n",
    "try:\n",
    "    num=11\n",
    "    print(num)\n",
    "    raise ValueError\n",
    "\n",
    "except:\n",
    "    print(\"Exception Occured\")\n",
    "    #Traceback (most recent calls)    "
   ]
  },
  {
   "cell_type": "code",
   "execution_count": 57,
   "id": "22edeeae-9a53-40a3-bbae-ce934599015a",
   "metadata": {},
   "outputs": [
    {
     "name": "stdout",
     "output_type": "stream",
     "text": [
      "Raising Exception\n",
      "Performing Clean Up in finally\n"
     ]
    },
    {
     "ename": "ValueError",
     "evalue": "",
     "output_type": "error",
     "traceback": [
      "\u001b[1;31m---------------------------------------------------------------------------\u001b[0m",
      "\u001b[1;31mValueError\u001b[0m                                Traceback (most recent call last)",
      "Cell \u001b[1;32mIn[57], line 3\u001b[0m\n\u001b[0;32m      1\u001b[0m \u001b[38;5;28;01mtry\u001b[39;00m:\n\u001b[0;32m      2\u001b[0m     \u001b[38;5;28mprint\u001b[39m(\u001b[38;5;124m\"\u001b[39m\u001b[38;5;124mRaising Exception\u001b[39m\u001b[38;5;124m\"\u001b[39m)\n\u001b[1;32m----> 3\u001b[0m     \u001b[38;5;28;01mraise\u001b[39;00m \u001b[38;5;167;01mValueError\u001b[39;00m\n\u001b[0;32m      4\u001b[0m \u001b[38;5;28;01mfinally\u001b[39;00m:\n\u001b[0;32m      5\u001b[0m     \u001b[38;5;28mprint\u001b[39m(\u001b[38;5;124m\"\u001b[39m\u001b[38;5;124mPerforming Clean Up in finally\u001b[39m\u001b[38;5;124m\"\u001b[39m)\n",
      "\u001b[1;31mValueError\u001b[0m: "
     ]
    }
   ],
   "source": [
    "try:\n",
    "    print(\"Raising Exception\")\n",
    "    raise ValueError\n",
    "finally:\n",
    "    print(\"Performing Clean Up in finally\")"
   ]
  },
  {
   "cell_type": "code",
   "execution_count": 59,
   "id": "19c63c58-85c7-4620-94a3-f8d7703dbeef",
   "metadata": {},
   "outputs": [
    {
     "name": "stdout",
     "output_type": "stream",
     "text": [
      "Raising Exception\n",
      "Exception cought\n",
      "Performing Clean Up in finally\n"
     ]
    }
   ],
   "source": [
    "try:\n",
    "    print(\"Raising Exception\")\n",
    "    raise ValueError\n",
    "except:\n",
    "    print(\"Exception cought\")\n",
    "finally:\n",
    "    print(\"Performing Clean Up in finally\")"
   ]
  },
  {
   "cell_type": "code",
   "execution_count": 63,
   "id": "dc4d3393-0e1f-44e0-9d27-17484ffce5f2",
   "metadata": {},
   "outputs": [
    {
     "name": "stdin",
     "output_type": "stream",
     "text": [
      "Enter temperature in celsius :  32\n"
     ]
    },
    {
     "ename": "AssertionError",
     "evalue": "IT's Cold",
     "output_type": "error",
     "traceback": [
      "\u001b[1;31m---------------------------------------------------------------------------\u001b[0m",
      "\u001b[1;31mAssertionError\u001b[0m                            Traceback (most recent call last)",
      "Cell \u001b[1;32mIn[63], line 3\u001b[0m\n\u001b[0;32m      1\u001b[0m c\u001b[38;5;241m=\u001b[39m\u001b[38;5;28mint\u001b[39m(\u001b[38;5;28minput\u001b[39m(\u001b[38;5;124m\"\u001b[39m\u001b[38;5;124mEnter temperature in celsius : \u001b[39m\u001b[38;5;124m\"\u001b[39m))\n\u001b[0;32m      2\u001b[0m f\u001b[38;5;241m=\u001b[39m(c\u001b[38;5;241m*\u001b[39m\u001b[38;5;241m9\u001b[39m\u001b[38;5;241m/\u001b[39m\u001b[38;5;241m5\u001b[39m)\u001b[38;5;241m+\u001b[39m\u001b[38;5;241m32\u001b[39m   \u001b[38;5;66;03m#Converting to Fornheat\u001b[39;00m\n\u001b[1;32m----> 3\u001b[0m \u001b[38;5;28;01massert\u001b[39;00m(f\u001b[38;5;241m<\u001b[39m\u001b[38;5;241m=\u001b[39m\u001b[38;5;241m32\u001b[39m),\u001b[38;5;124m\"\u001b[39m\u001b[38;5;124mIT\u001b[39m\u001b[38;5;124m'\u001b[39m\u001b[38;5;124ms Cold\u001b[39m\u001b[38;5;124m\"\u001b[39m\n\u001b[0;32m      4\u001b[0m \u001b[38;5;28mprint\u001b[39m(\u001b[38;5;124m\"\u001b[39m\u001b[38;5;124mFahrenheit : \u001b[39m\u001b[38;5;124m\"\u001b[39m,f)\n",
      "\u001b[1;31mAssertionError\u001b[0m: IT's Cold"
     ]
    }
   ],
   "source": [
    "c=int(input(\"Enter temperature in celsius : \"))\n",
    "f=(c*9/5)+32   #Converting to Fornheat\n",
    "assert(f<=32),\"IT's Cold\"\n",
    "print(\"Fahrenheit : \",f)\n",
    "\n",
    "\n"
   ]
  },
  {
   "cell_type": "code",
   "execution_count": 76,
   "id": "e1f9e5b5-abbc-475a-ac6d-87f2f5732009",
   "metadata": {},
   "outputs": [
    {
     "name": "stdout",
     "output_type": "stream",
     "text": [
      "1 2 3 4 5 6 7 8 9 10 11 12 13 14 15 16 17 18 19 20 "
     ]
    }
   ],
   "source": [
    "'''write a program which infinitely prints natural numbers.\n",
    "Raise a StopIteration Exception after displaying first 20 numbers to ex the program '''\n",
    "def display(n):\n",
    "    while True:\n",
    "        try:\n",
    "            n+=1\n",
    "            if n==21:\n",
    "                raise StopIteration\n",
    "        except StopIteration:\n",
    "            break\n",
    "        else:\n",
    "            print(n,end=\" \" )\n",
    "i=0\n",
    "display(i)"
   ]
  },
  {
   "cell_type": "code",
   "execution_count": 95,
   "id": "03152fac-4c78-43e3-9a4a-183970080034",
   "metadata": {},
   "outputs": [
    {
     "name": "stdout",
     "output_type": "stream",
     "text": [
      "0.9839\n"
     ]
    }
   ],
   "source": [
    "import random\n",
    "class RandomError(Exception):\n",
    "    pass\n",
    "try:\n",
    "    num=random.random()\n",
    "    if num<0.1:\n",
    "        raise RandomError\n",
    "except RandomError as e:\n",
    "    print(\"RandomError Generated\")\n",
    "else:\n",
    "    print(\"%.4f\"%num)"
   ]
  },
  {
   "cell_type": "code",
   "execution_count": 109,
   "id": "169fd6e7-7923-49ec-9579-00f83de94941",
   "metadata": {},
   "outputs": [
    {
     "name": "stdin",
     "output_type": "stream",
     "text": [
      "Enter a year Number :  2004\n"
     ]
    },
    {
     "name": "stdout",
     "output_type": "stream",
     "text": [
      "                                  2004\n",
      "\n",
      "      January                   February                   March\n",
      "Mo Tu We Th Fr Sa Su      Mo Tu We Th Fr Sa Su      Mo Tu We Th Fr Sa Su\n",
      "          1  2  3  4                         1       1  2  3  4  5  6  7\n",
      " 5  6  7  8  9 10 11       2  3  4  5  6  7  8       8  9 10 11 12 13 14\n",
      "12 13 14 15 16 17 18       9 10 11 12 13 14 15      15 16 17 18 19 20 21\n",
      "19 20 21 22 23 24 25      16 17 18 19 20 21 22      22 23 24 25 26 27 28\n",
      "26 27 28 29 30 31         23 24 25 26 27 28 29      29 30 31\n",
      "\n",
      "       April                      May                       June\n",
      "Mo Tu We Th Fr Sa Su      Mo Tu We Th Fr Sa Su      Mo Tu We Th Fr Sa Su\n",
      "          1  2  3  4                      1  2          1  2  3  4  5  6\n",
      " 5  6  7  8  9 10 11       3  4  5  6  7  8  9       7  8  9 10 11 12 13\n",
      "12 13 14 15 16 17 18      10 11 12 13 14 15 16      14 15 16 17 18 19 20\n",
      "19 20 21 22 23 24 25      17 18 19 20 21 22 23      21 22 23 24 25 26 27\n",
      "26 27 28 29 30            24 25 26 27 28 29 30      28 29 30\n",
      "                          31\n",
      "\n",
      "        July                     August                  September\n",
      "Mo Tu We Th Fr Sa Su      Mo Tu We Th Fr Sa Su      Mo Tu We Th Fr Sa Su\n",
      "          1  2  3  4                         1             1  2  3  4  5\n",
      " 5  6  7  8  9 10 11       2  3  4  5  6  7  8       6  7  8  9 10 11 12\n",
      "12 13 14 15 16 17 18       9 10 11 12 13 14 15      13 14 15 16 17 18 19\n",
      "19 20 21 22 23 24 25      16 17 18 19 20 21 22      20 21 22 23 24 25 26\n",
      "26 27 28 29 30 31         23 24 25 26 27 28 29      27 28 29 30\n",
      "                          30 31\n",
      "\n",
      "      October                   November                  December\n",
      "Mo Tu We Th Fr Sa Su      Mo Tu We Th Fr Sa Su      Mo Tu We Th Fr Sa Su\n",
      "             1  2  3       1  2  3  4  5  6  7             1  2  3  4  5\n",
      " 4  5  6  7  8  9 10       8  9 10 11 12 13 14       6  7  8  9 10 11 12\n",
      "11 12 13 14 15 16 17      15 16 17 18 19 20 21      13 14 15 16 17 18 19\n",
      "18 19 20 21 22 23 24      22 23 24 25 26 27 28      20 21 22 23 24 25 26\n",
      "25 26 27 28 29 30 31      29 30                     27 28 29 30 31\n",
      "\n"
     ]
    }
   ],
   "source": [
    "import calendar\n",
    "year = int(input(\"Enter a year Number : \"))\n",
    "print(calendar.calendar(year))\n"
   ]
  },
  {
   "cell_type": "code",
   "execution_count": 109,
   "id": "13083fee-74ce-4b98-b2de-1f5e3160c557",
   "metadata": {},
   "outputs": [
    {
     "name": "stdin",
     "output_type": "stream",
     "text": [
      "Enter a year Number :  2004\n"
     ]
    },
    {
     "name": "stdout",
     "output_type": "stream",
     "text": [
      "                                  2004\n",
      "\n",
      "      January                   February                   March\n",
      "Mo Tu We Th Fr Sa Su      Mo Tu We Th Fr Sa Su      Mo Tu We Th Fr Sa Su\n",
      "          1  2  3  4                         1       1  2  3  4  5  6  7\n",
      " 5  6  7  8  9 10 11       2  3  4  5  6  7  8       8  9 10 11 12 13 14\n",
      "12 13 14 15 16 17 18       9 10 11 12 13 14 15      15 16 17 18 19 20 21\n",
      "19 20 21 22 23 24 25      16 17 18 19 20 21 22      22 23 24 25 26 27 28\n",
      "26 27 28 29 30 31         23 24 25 26 27 28 29      29 30 31\n",
      "\n",
      "       April                      May                       June\n",
      "Mo Tu We Th Fr Sa Su      Mo Tu We Th Fr Sa Su      Mo Tu We Th Fr Sa Su\n",
      "          1  2  3  4                      1  2          1  2  3  4  5  6\n",
      " 5  6  7  8  9 10 11       3  4  5  6  7  8  9       7  8  9 10 11 12 13\n",
      "12 13 14 15 16 17 18      10 11 12 13 14 15 16      14 15 16 17 18 19 20\n",
      "19 20 21 22 23 24 25      17 18 19 20 21 22 23      21 22 23 24 25 26 27\n",
      "26 27 28 29 30            24 25 26 27 28 29 30      28 29 30\n",
      "                          31\n",
      "\n",
      "        July                     August                  September\n",
      "Mo Tu We Th Fr Sa Su      Mo Tu We Th Fr Sa Su      Mo Tu We Th Fr Sa Su\n",
      "          1  2  3  4                         1             1  2  3  4  5\n",
      " 5  6  7  8  9 10 11       2  3  4  5  6  7  8       6  7  8  9 10 11 12\n",
      "12 13 14 15 16 17 18       9 10 11 12 13 14 15      13 14 15 16 17 18 19\n",
      "19 20 21 22 23 24 25      16 17 18 19 20 21 22      20 21 22 23 24 25 26\n",
      "26 27 28 29 30 31         23 24 25 26 27 28 29      27 28 29 30\n",
      "                          30 31\n",
      "\n",
      "      October                   November                  December\n",
      "Mo Tu We Th Fr Sa Su      Mo Tu We Th Fr Sa Su      Mo Tu We Th Fr Sa Su\n",
      "             1  2  3       1  2  3  4  5  6  7             1  2  3  4  5\n",
      " 4  5  6  7  8  9 10       8  9 10 11 12 13 14       6  7  8  9 10 11 12\n",
      "11 12 13 14 15 16 17      15 16 17 18 19 20 21      13 14 15 16 17 18 19\n",
      "18 19 20 21 22 23 24      22 23 24 25 26 27 28      20 21 22 23 24 25 26\n",
      "25 26 27 28 29 30 31      29 30                     27 28 29 30 31\n",
      "\n"
     ]
    }
   ],
   "source": [
    "import calendar\n",
    "year = int(input(\"Enter a year Number : \"))\n",
    "print(calendar.calendar(year))\n"
   ]
  },
  {
   "cell_type": "code",
   "execution_count": 119,
   "id": "b4b11fad-6d7f-442e-a207-41a0938231e2",
   "metadata": {},
   "outputs": [
    {
     "name": "stdin",
     "output_type": "stream",
     "text": [
      "Enter a year Number :  2004\n",
      "Enter the Months :  10\n"
     ]
    },
    {
     "name": "stdout",
     "output_type": "stream",
     "text": [
      "    October 2004\n",
      "Mo Tu We Th Fr Sa Su\n",
      "             1  2  3\n",
      " 4  5  6  7  8  9 10\n",
      "11 12 13 14 15 16 17\n",
      "18 19 20 21 22 23 24\n",
      "25 26 27 28 29 30 31\n",
      "\n"
     ]
    }
   ],
   "source": [
    "from calendar import *\n",
    "year = int(input(\"Enter a year Number : \"))\n",
    "Month=int(input(\"Enter the Months : \"))\n",
    "str=month(year,Month)\n",
    "print(str)\n"
   ]
  },
  {
   "cell_type": "code",
   "execution_count": 123,
   "id": "829cc909-0ac1-4d76-b01c-e1361e3ca482",
   "metadata": {},
   "outputs": [
    {
     "name": "stdin",
     "output_type": "stream",
     "text": [
      "Enter a year Number:  2004\n",
      "Enter the month (1-12):  10\n"
     ]
    },
    {
     "name": "stdout",
     "output_type": "stream",
     "text": [
      "    October 2004\n",
      "Mo Tu We Th Fr Sa Su\n",
      "             1  2  3\n",
      " 4  5  6  7  8  9 10\n",
      "11 12 13 14 15 16 17\n",
      "18 19 20 21 22 23 24\n",
      "25 26 27 28 29 30 31\n",
      "\n"
     ]
    }
   ],
   "source": [
    "import calendar as c\n",
    "\n",
    "year = int(input(\"Enter a year Number: \"))\n",
    "month = int(input(\"Enter the month (1-12): \"))\n",
    "\n",
    "# Get the month's calendar as a string\n",
    "month_str = c.month(year, month)\n",
    "\n",
    "print(month_str)\n"
   ]
  },
  {
   "cell_type": "code",
   "execution_count": 127,
   "id": "9f630643-7c4b-4477-8309-21f2d241e165",
   "metadata": {},
   "outputs": [
    {
     "name": "stdin",
     "output_type": "stream",
     "text": [
      "Enter a year Number :  2024\n"
     ]
    },
    {
     "name": "stdout",
     "output_type": "stream",
     "text": [
      "2024  is a leap year\n"
     ]
    }
   ],
   "source": [
    "#Leap YEAR using Calendar\n",
    "from calendar import *\n",
    "year = int(input(\"Enter a year Number : \"))\n",
    "if isleap(year):\n",
    "    print(year,\" is a leap year\")\n",
    "else:\n",
    "    print(year, \" is not a leap year\")\n"
   ]
  },
  {
   "cell_type": "code",
   "execution_count": 140,
   "id": "d67688db-a31a-4d7c-82d2-9308699a1bbc",
   "metadata": {},
   "outputs": [
    {
     "name": "stdout",
     "output_type": "stream",
     "text": [
      "2025-07-04\n",
      "2025-07-05\n",
      "2025-07-06\n",
      "2025-07-07\n",
      "2025-07-08\n",
      "2025-07-09\n",
      "2025-07-10\n",
      "2025-07-11\n",
      "2025-07-12\n",
      "2025-07-13\n",
      "\n",
      " 1751610919.296074\n"
     ]
    }
   ],
   "source": [
    "'''program to print the next 10 day dated continuosly '''\n",
    "from datetime import *\n",
    "d=date.today()\n",
    "print(d)\n",
    "#d=date(1966,6,29)\n",
    "for x in range (1,10):\n",
    "    nextdate=d+timedelta(days=x)\n",
    "    print(nextdate)\n",
    "\n",
    "\n",
    "\n",
    "\n",
    "import time\n",
    "epoch =time.time()\n",
    "print(\"\\n\",epoch)"
   ]
  },
  {
   "cell_type": "code",
   "execution_count": null,
   "id": "7a737fea-0d04-4d8d-b5da-4b95dc391389",
   "metadata": {},
   "outputs": [],
   "source": []
  },
  {
   "cell_type": "code",
   "execution_count": null,
   "id": "e9b1ba48-cef9-44ba-86fa-92c96064a837",
   "metadata": {},
   "outputs": [],
   "source": [
    "#Sys\n"
   ]
  },
  {
   "cell_type": "code",
   "execution_count": 144,
   "id": "87afa4b4-f088-4802-83cb-19fc46328113",
   "metadata": {},
   "outputs": [
    {
     "name": "stdout",
     "output_type": "stream",
     "text": [
      "Student, -f!...\n"
     ]
    }
   ],
   "source": [
    "import sys\n",
    "if len(sys.argv)<2 :\n",
    "    print(\"Usage : Hello hi.py <name>\")\n",
    "else:\n",
    "    name=sys.argv[1]\n",
    "    print(f\"Student, {name}!...\")"
   ]
  },
  {
   "cell_type": "code",
   "execution_count": null,
   "id": "6b3fd892-926e-425a-883b-346108c28b58",
   "metadata": {},
   "outputs": [],
   "source": []
  },
  {
   "cell_type": "code",
   "execution_count": null,
   "id": "d0557a99-8a35-4876-bd74-72f275fa2a23",
   "metadata": {},
   "outputs": [],
   "source": []
  }
 ],
 "metadata": {
  "kernelspec": {
   "display_name": "Python 3 (ipykernel)",
   "language": "python",
   "name": "python3"
  },
  "language_info": {
   "codemirror_mode": {
    "name": "ipython",
    "version": 3
   },
   "file_extension": ".py",
   "mimetype": "text/x-python",
   "name": "python",
   "nbconvert_exporter": "python",
   "pygments_lexer": "ipython3",
   "version": "3.12.7"
  }
 },
 "nbformat": 4,
 "nbformat_minor": 5
}
