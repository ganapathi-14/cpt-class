{
 "cells": [
  {
   "cell_type": "code",
   "execution_count": 1,
   "id": "4e202881-03cf-4392-8beb-657e6914861b",
   "metadata": {},
   "outputs": [],
   "source": [
    "import pandas as pd"
   ]
  },
  {
   "cell_type": "code",
   "execution_count": 4,
   "id": "53240267-50e5-4053-aa03-744edeed979d",
   "metadata": {},
   "outputs": [
    {
     "name": "stdout",
     "output_type": "stream",
     "text": [
      "\n",
      "original Name Series : \n",
      "0     Vijay\n",
      "1      Ajay\n",
      "2     Kiran\n",
      "3     Amith\n",
      "4    Suresh\n",
      "5       NaN\n",
      "Name: Name, dtype: object\n",
      "Name series after standardization (title case and stripped space): \n",
      "0     Vijay\n",
      "1      Ajay\n",
      "2     Kiran\n",
      "3     Amith\n",
      "4    Suresh\n",
      "5       NaN\n",
      "Name: Name, dtype: object\n",
      "Data saved to csv file\n"
     ]
    }
   ],
   "source": [
    "try:\n",
    "    df = pd.read_csv('hospital_data.csv')\n",
    "    series = df['Name']\n",
    "    print(\"\\noriginal Name Series : \")\n",
    "    print(series)\n",
    "    clean_series = series.str.title().str.strip()\n",
    "    print(\"Name series after standardization (title case and stripped space): \")\n",
    "    print(clean_series)\n",
    "# saving to csv dataframe\n",
    "    df['Name'] = clean_series\n",
    "    df.to_csv('hospital_data.csv', index=False)\n",
    "    print(\"Data saved to csv file\")\n",
    "except FileNotFoundError:\n",
    "    print(\"Error : 'hospital_data.csv' not found.\")\n",
    "# Capitalize first letter of each word and remove extra spaces before/after the name\n"
   ]
  },
  {
   "cell_type": "code",
   "execution_count": 6,
   "id": "1a4a82c6-851c-4555-affb-6ca021b22d11",
   "metadata": {},
   "outputs": [],
   "source": [
    "import numpy as np"
   ]
  },
  {
   "cell_type": "code",
   "execution_count": 8,
   "id": "bd41bbd7-5c81-478f-9815-f07d3b18aca0",
   "metadata": {},
   "outputs": [
    {
     "name": "stdout",
     "output_type": "stream",
     "text": [
      "\n",
      "Original age series :\n",
      "0    34.0\n",
      "1    30.0\n",
      "2     NaN\n",
      "3    60.0\n",
      "4    25.0\n",
      "5    50.0\n",
      "Name: Age, dtype: float64\n",
      "\n",
      "Age series after replacing invalid ages with NaN : \n",
      "0    34.0\n",
      "1    30.0\n",
      "2     NaN\n",
      "3    60.0\n",
      "4    25.0\n",
      "5    50.0\n",
      "Name: Age, dtype: float64\n",
      "\n",
      "updated csv saved to 'hospital_data.csv'.\n"
     ]
    }
   ],
   "source": [
    "try:\n",
    "    df = pd.read_csv('hospital_data.csv')\n",
    "    series = df['Age']\n",
    "    print(\"\\nOriginal age series :\")\n",
    "    print(series)\n",
    "# replace invalid ages < 0 or > 120 with NaN\n",
    "    clean_series = series.where((series >= 0) & (series <= 120), np.nan)\n",
    "    print(\"\\nAge series after replacing invalid ages with NaN : \")\n",
    "    print(clean_series)\n",
    "    df['Age'] = clean_series\n",
    "    df.to_csv('hospital_data.csv', index=False)\n",
    "    print(\"\\nupdated csv saved to 'hospital_data.csv'.\")\n",
    "except FileNotFoundError:\n",
    "    print(\"Error: 'hospital_data.csv' not found.\")\n",
    "# Replace ages less than 0 or greater than 120 with NaN to clean invalid age values\n"
   ]
  },
  {
   "cell_type": "code",
   "execution_count": 12,
   "id": "871c5b5a-f821-4c53-b55d-739f8f2962f6",
   "metadata": {},
   "outputs": [
    {
     "ename": "SyntaxError",
     "evalue": "expected 'except' or 'finally' block (896659527.py, line 12)",
     "output_type": "error",
     "traceback": [
      "  \u001b[36mCell\u001b[39m\u001b[36m \u001b[39m\u001b[32mIn[12]\u001b[39m\u001b[32m, line 12\u001b[39m\n\u001b[31m    \u001b[39m\u001b[31m'''#convert string to datetime\u001b[39m\n    ^\n\u001b[31mSyntaxError\u001b[39m\u001b[31m:\u001b[39m expected 'except' or 'finally' block\n"
     ]
    }
   ],
   "source": [
    "try:\n",
    "   df = pd.read_csv('hospital_data.csv')\n",
    "   series= df['Admission_Date']\n",
    "   print(\"\\n Original Admission_Date series\")\n",
    "   print(series)\n",
    "   print(\"\\n Convert Admission dateformat from y/m/d to d/m/y:\")\n",
    "   confirm =input().strip().lower\n",
    "   if confirm=='yes':\n",
    "       date_series= pd.to_datetime(series, format='%Y-%m-%d')\n",
    "       f_series= date_series.dt.strftime('%d-%m-%Y')\n",
    "       print(\"\\n Admission date series after convertion to DD-MM-YYYY:\")\n",
    "'''#convert string to datetime\n",
    "   date_series=pd.to_datetime(series, format='%Y-%m-%d')\n",
    "   print(\"\\n Admission date series after converting to datetime : \")\n",
    "   print(date_series)'''\n",
    "#Update and save the dataFrame\n",
    "       df['Admission_Date']=f_series\n",
    "       df.to_csv('hospital_data.csv',index=False)\n",
    "       print(\"\\nUpdated Csv Saved to 'hospital_data.csv'\")\n",
    "   else:\n",
    "       print(\"\\n\")\n",
    "       \n",
    "    \n",
    "except FileNotFoundError:\n",
    "    print(\"Error: 'hospital_data.csv' not found.\")"
   ]
  },
  {
   "cell_type": "code",
   "execution_count": null,
   "id": "cb2f61ee-4cca-49d8-ac0c-3296e5a7ec97",
   "metadata": {},
   "outputs": [],
   "source": []
  }
 ],
 "metadata": {
  "kernelspec": {
   "display_name": "Python 3 (ipykernel)",
   "language": "python",
   "name": "python3"
  },
  "language_info": {
   "codemirror_mode": {
    "name": "ipython",
    "version": 3
   },
   "file_extension": ".py",
   "mimetype": "text/x-python",
   "name": "python",
   "nbconvert_exporter": "python",
   "pygments_lexer": "ipython3",
   "version": "3.13.5"
  }
 },
 "nbformat": 4,
 "nbformat_minor": 5
}
