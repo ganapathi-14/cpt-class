{
 "cells": [
  {
   "cell_type": "code",
   "execution_count": 3,
   "id": "a7244f80-3b99-45f7-b20f-73c1bed03d0a",
   "metadata": {},
   "outputs": [
    {
     "name": "stdout",
     "output_type": "stream",
     "text": [
      "['Python', 'Python']\n"
     ]
    }
   ],
   "source": [
    "import re\n",
    "\n",
    "text = \"Hello, I love Python Python programming!\"\n",
    "matches = re.findall(r'Python', text)\n",
    "print(matches)  # Output: ['Python']\n"
   ]
  },
  {
   "cell_type": "code",
   "execution_count": 1,
   "id": "d41de652-d0fc-4247-87ef-fde89a8288a0",
   "metadata": {},
   "outputs": [
    {
     "name": "stdout",
     "output_type": "stream",
     "text": [
      "Match Found for :  <re.Match object; span=(0, 2), match='hi'>\n",
      "Match Found for :  hi\n"
     ]
    }
   ],
   "source": [
    "import re\n",
    "text='hi,students how are you!!'\n",
    "se=r'hi'\n",
    "output=re.match(se,text)\n",
    "if output:\n",
    "    print(\"Match Found for : \",output)\n",
    "    print(\"Match Found for : \",output.group())\n",
    "else:\n",
    "    print(\"No Match\")"
   ]
  },
  {
   "cell_type": "code",
   "execution_count": 15,
   "id": "8c7316c3-4e95-48f2-afb6-5bfb0d58fd40",
   "metadata": {},
   "outputs": [
    {
     "name": "stdout",
     "output_type": "stream",
     "text": [
      "<re.Match object; span=(13, 16), match='229'>\n",
      "229\n"
     ]
    }
   ],
   "source": [
    "import re\n",
    "text='My Number is 229'\n",
    "match=re.search(r'\\d+',text)\n",
    "print(match)\n",
    "print(match.group())"
   ]
  },
  {
   "cell_type": "code",
   "execution_count": 13,
   "id": "24f2bdca-f443-4e48-b6c2-cc8ad3eec9d4",
   "metadata": {},
   "outputs": [
    {
     "name": "stdin",
     "output_type": "stream",
     "text": [
      "Enter a sentence with a number:  4\n"
     ]
    },
    {
     "name": "stdout",
     "output_type": "stream",
     "text": [
      "number found: 4\n"
     ]
    }
   ],
   "source": [
    "import re\n",
    "text = input(\"Enter a sentence with a number: \")\n",
    "match = re.search(r'\\d+', text)\n",
    "if match:\n",
    "    print(\"number found:\", match.group())\n",
    "else:\n",
    "    print(\"no match\")\n"
   ]
  },
  {
   "cell_type": "code",
   "execution_count": 29,
   "id": "0af79277-25c5-4c42-ab83-00dfea0ee000",
   "metadata": {},
   "outputs": [
    {
     "name": "stdin",
     "output_type": "stream",
     "text": [
      "Enter a sentence with a number:  sai7 ganapathi 14\n"
     ]
    },
    {
     "name": "stdout",
     "output_type": "stream",
     "text": [
      "1st Number found :  7\n",
      "Second Number found :  14\n"
     ]
    }
   ],
   "source": [
    "import re\n",
    "text = input(\"Enter a sentence with a number: \")\n",
    "matches=list(re.finditer(r'\\d+',text))\n",
    "if len(matches)>=2:\n",
    "             print(\"1st Number found : \" ,matches[0].group())\n",
    "             print(\"Second Number found : \" ,matches[1].group())\n",
    "elif len(matches)==1:\n",
    "             print(\"Only one Number found : \" ,matches[0].group())\n",
    "else : \n",
    "    print(\"no match\")\n"
   ]
  },
  {
   "cell_type": "code",
   "execution_count": 35,
   "id": "cbd830a4-8db2-416a-a3e1-de2c06bf4801",
   "metadata": {},
   "outputs": [
    {
     "name": "stdin",
     "output_type": "stream",
     "text": [
      "Enter a sentence with a number:  i have 2 backlogs in in 2 1 , 5 backlogs in 3 2\n",
      "Which number you want to extract?  4\n"
     ]
    },
    {
     "name": "stdout",
     "output_type": "stream",
     "text": [
      "4th number is: 5\n"
     ]
    }
   ],
   "source": [
    "import re\n",
    "text = input(\"Enter a sentence with a number: \")\n",
    "n = int(input(\"Which number you want to extract? \"))\n",
    "matches = re.findall(r'\\d+', text)\n",
    "if len(matches) >= n:\n",
    "    print(f\"{n}th number is:\", matches[n-1])\n",
    "else:\n",
    "    print(\"Not found\")\n"
   ]
  },
  {
   "cell_type": "code",
   "execution_count": 45,
   "id": "7a56e8d0-b63f-4c09-87c3-7f97c59e822f",
   "metadata": {},
   "outputs": [
    {
     "name": "stdin",
     "output_type": "stream",
     "text": [
      "Enter your email:  asg@gmail.com\n"
     ]
    },
    {
     "name": "stdout",
     "output_type": "stream",
     "text": [
      "Valid\n"
     ]
    },
    {
     "name": "stdin",
     "output_type": "stream",
     "text": [
      "Enter a mobile number:  9912942559\n"
     ]
    },
    {
     "name": "stdout",
     "output_type": "stream",
     "text": [
      "Valid mobile number\n"
     ]
    }
   ],
   "source": [
    "#Email Validate \n",
    "import re\n",
    "email = input(\"Enter your email: \")\n",
    "# Corrected regex pattern to match an email\n",
    "pattern = r'^[a-zA-Z0-9_]+@[a-zA-Z0-9_]+\\.[a-zA-Z]{2,}$'\n",
    "if re.match(pattern, email):\n",
    "    print(\"Valid\")\n",
    "else:\n",
    "    print(\"Invalid\")\n",
    "\n",
    "# Input mobile number\n",
    "mobile_number = input(\"Enter a mobile number: \")\n",
    "# Regular expression pattern to match a valid Indian mobile number\n",
    "pattern = r'^[6-9]\\d{9}$'\n",
    "# Check if the mobile number matches the pattern\n",
    "if re.match(pattern, mobile_number):\n",
    "    print(\"Valid mobile number\")\n",
    "else:\n",
    "    print(\"Invalid mobile number\")\n",
    "\n",
    "\n"
   ]
  },
  {
   "cell_type": "code",
   "execution_count": null,
   "id": "15260f46-4fbf-4cc2-9eb8-405095f8a9ec",
   "metadata": {},
   "outputs": [],
   "source": []
  }
 ],
 "metadata": {
  "kernelspec": {
   "display_name": "Python 3 (ipykernel)",
   "language": "python",
   "name": "python3"
  },
  "language_info": {
   "codemirror_mode": {
    "name": "ipython",
    "version": 3
   },
   "file_extension": ".py",
   "mimetype": "text/x-python",
   "name": "python",
   "nbconvert_exporter": "python",
   "pygments_lexer": "ipython3",
   "version": "3.12.7"
  }
 },
 "nbformat": 4,
 "nbformat_minor": 5
}
