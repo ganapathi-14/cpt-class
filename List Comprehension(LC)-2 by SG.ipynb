{
 "cells": [
  {
   "cell_type": "code",
   "execution_count": 5,
   "id": "ab1b6635-c303-4dd5-b633-4b8d3f7308c7",
   "metadata": {},
   "outputs": [
    {
     "name": "stdin",
     "output_type": "stream",
     "text": [
      "Enter 10 space Separated nums :  231 23 23 32 25 5 35   3223 32 \n"
     ]
    },
    {
     "name": "stdout",
     "output_type": "stream",
     "text": [
      "[231, 23, 23, 32, 25]\n"
     ]
    }
   ],
   "source": [
    "'''code to take user input of random 5 numbers using \n",
    "list comprehension and print them.\n",
    "constraint : take input with space seperated input must read 10 numbes \n",
    "if the user give more than 10 numbers space separated'''\n",
    "code:-\n",
    "n=[int(x) for x in input(\"Enter 10 space Separated nums : \").split()[:5]]\n",
    "print(n)"
   ]
  },
  {
   "cell_type": "code",
   "execution_count": 9,
   "id": "775e5ab7-f458-45ce-9152-847289c87195",
   "metadata": {},
   "outputs": [
    {
     "name": "stdout",
     "output_type": "stream",
     "text": [
      "[0, 2, 4, 6, 8, 10]\n"
     ]
    }
   ],
   "source": [
    "print([x for x in range(11) if x%2==0])"
   ]
  },
  {
   "cell_type": "code",
   "execution_count": 13,
   "id": "0ce979b3-832f-460e-8d6e-0d290691f3c5",
   "metadata": {},
   "outputs": [
    {
     "name": "stdout",
     "output_type": "stream",
     "text": [
      "['RED', 'GREEN', 'BLACK', 'WHITE']\n"
     ]
    }
   ],
   "source": [
    "colors=['red','green','black','white']\n",
    "print([color.upper() for color in colors])"
   ]
  },
  {
   "cell_type": "code",
   "execution_count": 17,
   "id": "6a32bb80-b20f-4820-b7ea-c2fac836f5e0",
   "metadata": {},
   "outputs": [
    {
     "name": "stdout",
     "output_type": "stream",
     "text": [
      "[1, 2, 3, 4, 5, 6, 7, 8, 9]\n"
     ]
    }
   ],
   "source": [
    "#nested list\n",
    "matrix = [\n",
    "    [1, 2, 3],\n",
    "    [4, 5, 6],\n",
    "    [7, 8, 9]]\n",
    "\n",
    "flattened = [num for row in matrix for num in row]\n",
    "print(flattened)\n"
   ]
  },
  {
   "cell_type": "code",
   "execution_count": 19,
   "id": "bba75b67-0814-458b-b4db-d0996088167b",
   "metadata": {},
   "outputs": [
    {
     "name": "stdout",
     "output_type": "stream",
     "text": [
      "[2, 4, 6, 8]\n"
     ]
    }
   ],
   "source": [
    "matrix = [\n",
    "    [1, 2, 3],\n",
    "    [4, 5, 6],\n",
    "    [7, 8, 9]\n",
    "]\n",
    "\n",
    "evens = [num for row in matrix for num in row if num % 2 == 0]\n",
    "print(evens)\n"
   ]
  },
  {
   "cell_type": "code",
   "execution_count": 23,
   "id": "3c0c9817-075e-4255-ac0c-0ff5543b7e0d",
   "metadata": {},
   "outputs": [
    {
     "name": "stdout",
     "output_type": "stream",
     "text": [
      "8\n",
      "11\n"
     ]
    }
   ],
   "source": [
    "m = [[1, 2, 3],[4, 5,[11,12]],[7, 8, 9]]\n",
    "print(m[2][1])\n",
    "print(m[1][2][0])"
   ]
  },
  {
   "cell_type": "code",
   "execution_count": 41,
   "id": "aa17bce5-a70c-4254-9e67-3375b87beb45",
   "metadata": {},
   "outputs": [
    {
     "name": "stdin",
     "output_type": "stream",
     "text": [
      "Enter the 4 inputs:  1\n",
      "Enter the 4 inputs:  2\n",
      "Enter the 4 inputs:  3\n",
      "Enter the 4 inputs:  4\n"
     ]
    },
    {
     "name": "stdout",
     "output_type": "stream",
     "text": [
      "[1, 2, 3, 4]\n"
     ]
    }
   ],
   "source": [
    "\n",
    "n = [int(input(\"Enter the 4 inputs: \")) for x in range(4)]\n",
    "print(n)\n"
   ]
  },
  {
   "cell_type": "code",
   "execution_count": 51,
   "id": "7b817449-8bed-4079-aaa4-15966b418947",
   "metadata": {},
   "outputs": [
    {
     "name": "stdin",
     "output_type": "stream",
     "text": [
      "Enter 9 nums: 1 2 3 4 5 6 7 8 9\n"
     ]
    },
    {
     "name": "stdout",
     "output_type": "stream",
     "text": [
      "3X3 matrix\n",
      "[1, 2, 3]\n",
      "[4, 5, 6]\n",
      "[7, 8, 9]\n",
      "1 2 3\n",
      "4 5 6\n",
      "7 8 9\n"
     ]
    }
   ],
   "source": [
    "'''Code to take user input with space separated and convert the 9 inputs in \n",
    "to 3*3 matrix form on dispaly'''\n",
    "nums= [int(x) for x in input(\"Enter 9 nums:\").split()[:9]]\n",
    "m=[[nums[i * 3 + j ] for j in range(3)] for i in range(3)]\n",
    "print(\"3X3 matrix\")\n",
    "for x in m:\n",
    " print(x)\n",
    "for row in m:\n",
    "    print(\" \".join(str(x) for x in row))\n"
   ]
  },
  {
   "cell_type": "code",
   "execution_count": 53,
   "id": "eb19a270-bb7e-4e4c-afdd-abe6becfb7e0",
   "metadata": {},
   "outputs": [
    {
     "name": "stdin",
     "output_type": "stream",
     "text": [
      "Enter 9 numbers:  1 2 3 4 5 6 7 8 9\n"
     ]
    },
    {
     "name": "stdout",
     "output_type": "stream",
     "text": [
      "Original matrix:\n",
      "[1, 2, 3]\n",
      "[4, 5, 6]\n",
      "[7, 8, 9]\n",
      "Binary matrix (0 if even, 1 if odd):\n",
      "[1, 0, 1]\n",
      "[0, 1, 0]\n",
      "[1, 0, 1]\n"
     ]
    }
   ],
   "source": [
    "nums = input(\"Enter 9 numbers: \").split()\n",
    "\n",
    "if len(nums) != 9:\n",
    "    print(\"Enter exactly 9 numbers.\")\n",
    "else:\n",
    "    numbers = [int(x) for x in nums]\n",
    "    m = [[numbers[i * 3 + j] for j in range(3)] for i in range(3)]\n",
    "    bm = [[0 if m[i][j] % 2 == 0 else 1 for j in range(3)] for i in range(3)]\n",
    "\n",
    "    print(\"Original matrix:\")\n",
    "    for r in m:\n",
    "        print(r)\n",
    "\n",
    "    print(\"Binary matrix (0 if even, 1 if odd):\")\n",
    "    for r in bm:\n",
    "        print(r)\n"
   ]
  },
  {
   "cell_type": "code",
   "execution_count": null,
   "id": "a51a0732-a29d-4a4a-937a-afb1e176602f",
   "metadata": {},
   "outputs": [],
   "source": []
  }
 ],
 "metadata": {
  "kernelspec": {
   "display_name": "Python 3 (ipykernel)",
   "language": "python",
   "name": "python3"
  },
  "language_info": {
   "codemirror_mode": {
    "name": "ipython",
    "version": 3
   },
   "file_extension": ".py",
   "mimetype": "text/x-python",
   "name": "python",
   "nbconvert_exporter": "python",
   "pygments_lexer": "ipython3",
   "version": "3.12.7"
  }
 },
 "nbformat": 4,
 "nbformat_minor": 5
}
