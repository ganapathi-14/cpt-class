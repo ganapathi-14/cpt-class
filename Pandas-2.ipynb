{
 "cells": [
  {
   "cell_type": "code",
   "execution_count": 3,
   "id": "41695b77-fde5-4779-8776-fc1f7aaee8c2",
   "metadata": {},
   "outputs": [],
   "source": [
    "import pandas as pd"
   ]
  },
  {
   "cell_type": "code",
   "execution_count": 45,
   "id": "3c781122-3328-470c-bea1-041d9c1fa0d8",
   "metadata": {},
   "outputs": [
    {
     "name": "stdin",
     "output_type": "stream",
     "text": [
      "Enter number of profiles :  2\n"
     ]
    },
    {
     "name": "stdout",
     "output_type": "stream",
     "text": [
      "----Enter 1----\n"
     ]
    },
    {
     "name": "stdin",
     "output_type": "stream",
     "text": [
      "Enter Name :  sai\n",
      "Enter Age :  10\n",
      "Enter the Branch :  cse\n"
     ]
    },
    {
     "name": "stdout",
     "output_type": "stream",
     "text": [
      "----Enter 2----\n"
     ]
    },
    {
     "name": "stdin",
     "output_type": "stream",
     "text": [
      "Enter Name :  gana\n",
      "Enter Age :  20\n",
      "Enter the Branch :  csm\n"
     ]
    },
    {
     "name": "stdout",
     "output_type": "stream",
     "text": [
      "\n",
      "Data Frames Created....\n",
      "   Name Age Branch\n",
      "0   sai  10    cse\n",
      "1  gana  20    csm\n"
     ]
    }
   ],
   "source": [
    "import pandas as pd\n",
    "n= int(input(\"Enter number of profiles : \"))\n",
    "names=[]\n",
    "ages=[]\n",
    "branches=[]\n",
    "for i in range(n):\n",
    "    print(f\"----Enter {i+1}----\")\n",
    "    name=input(\"Enter Name : \")\n",
    "    age=input(\"Enter Age : \")\n",
    "    branch=input(\"Enter the Branch : \")\n",
    "    ages.append(age)\n",
    "    branches.append(branch)\n",
    "    names.append(name)\n",
    "data={'Name':names,'Age':ages,'Branch':branches}\n",
    "df=pd.DataFrame(data)\n",
    "print(\"\\nData Frames Created....\")\n",
    "print(df)"
   ]
  },
  {
   "cell_type": "code",
   "execution_count": 41,
   "id": "ec4d627c-2de2-4917-b1bd-8b817e027374",
   "metadata": {},
   "outputs": [
    {
     "name": "stdout",
     "output_type": "stream",
     "text": [
      "    Name  Age Branch\n",
      "0   Mark   22    EEE\n",
      "1  Steve   21    CSE\n",
      "2  Jenny   22   Mech\n",
      "\n",
      " 0     Mark\n",
      "1    Steve\n",
      "2    Jenny\n",
      "Name: Name, dtype: object\n",
      "\n",
      "     Name Branch\n",
      "0   Mark    EEE\n",
      "1  Steve    CSE\n",
      "2  Jenny   Mech\n",
      "\n",
      " Name      Jenny\n",
      "Age          22\n",
      "Branch     Mech\n",
      "Name: 2, dtype: object\n",
      "\n",
      "     Name  Salary  Age Branch\n",
      "0   Mark   10000   22    EEE\n",
      "1  Steve   11000   21    CSE\n",
      "2  Jenny    9000   22   Mech\n",
      "\n",
      "     Name  Salary  Age Branch\n",
      "0   Mark   10000   22    EEE\n",
      "1  Steve   11000   21    CSE\n",
      "2  Jenny    9000   25   Mech\n"
     ]
    }
   ],
   "source": [
    "data = {\n",
    "    'Name': ['Mark', 'Steve', 'Jenny'],\n",
    "    'Age': [22, 21, 22],\n",
    "    'Branch': ['EEE', 'CSE', 'Mech']\n",
    "}\n",
    "\n",
    "dframe = pd.DataFrame(data)\n",
    "\n",
    "print(dframe)               # Print whole DataFrame\n",
    "print(\"\\n\",dframe['Name'])       # Print 'Name' column\n",
    "print(\"\\n\",dframe[['Name', 'Branch']])  # Print 'Name' and 'Branch' columns\n",
    "\n",
    "# It looks like you wanted to print a specific cell, maybe dframe.iloc[2]\n",
    "print(\"\\n\",dframe.iloc[2])       # Print row at index 2\n",
    "\n",
    "Stipend = [10000, 11000, 9000]\n",
    "dframe.insert(1, 'Salary', Stipend)  # Insert new column 'Salary' at position 1\n",
    "print(\"\\n\",dframe)\n",
    "\n",
    "dframe.at[2, 'Age'] = 25    # Update Age of index 2 to 25\n",
    "print(\"\\n\",dframe)\n"
   ]
  },
  {
   "cell_type": "code",
   "execution_count": 56,
   "id": "090f794a-99e1-420c-a912-aaedbc940741",
   "metadata": {},
   "outputs": [
    {
     "name": "stdout",
     "output_type": "stream",
     "text": [
      "  Patient_ID    Name   Age  Department Admission_Date      Bill\n",
      "0       P001   Vijay  34.0      Corona     2025-01-15    7000.8\n",
      "1       P002    Ajay  30.0      Cancer     2025-02-10   76000.0\n",
      "2       P003   Kiran   NaN   Neurology     2025-03-03   10000.0\n",
      "3       P004   Amith  60.0  Cardiology     2025-01-22  200000.0\n",
      "4       P005  Suresh  25.0      Cancer     2025-04-06   80000.0\n",
      "5       P006    None  50.0         ICU     2025-05-30       NaN\n",
      "Created csv file\n",
      "CSV file saved as 'hospital_data.csv'\n"
     ]
    }
   ],
   "source": [
    "import pandas as pd\n",
    "import numpy as np\n",
    "\n",
    "data = {\n",
    "    'Patient_ID': ['P001', 'P002', 'P003', 'P004', 'P005', 'P006'],\n",
    "    'Name': ['Vijay', 'Ajay', 'Kiran', 'Amith', 'Suresh', None],\n",
    "    'Age': [34, 30, None, 60, 25, 50],\n",
    "    'Department': ['Corona', 'Cancer', 'Neurology', 'Cardiology', 'Cancer', 'ICU'],\n",
    "    'Admission_Date': [\n",
    "        '2025-01-15', '2025-02-10', '2025-03-03', \n",
    "        '2025-01-22', '2025-04-06', '2025-05-30'\n",
    "    ],\n",
    "    'Bill': [7000.80, 76000.00, 10000.00, 200000.00, 80000.0, None]\n",
    "}\n",
    "\n",
    "df = pd.DataFrame(data)\n",
    "print(df)\n",
    "\n",
    "df.to_csv('hospital_data.csv', index=False)\n",
    "\n",
    "print(\"Created csv file\\nCSV file saved as 'hospital_data.csv'\")"
   ]
  },
  {
   "cell_type": "code",
   "execution_count": 70,
   "id": "1dd1f18a-d94f-4e74-b191-127a8608177a",
   "metadata": {},
   "outputs": [
    {
     "name": "stdout",
     "output_type": "stream",
     "text": [
      "\n",
      "Hospital DataFrame : \n",
      "  Patient_ID    Name   Age  Department Admission_Date      Bill\n",
      "0       P001   Vijay  34.0      Corona     2025-01-15    7000.8\n",
      "1       P002    Ajay  30.0      Cancer     2025-02-10   76000.0\n",
      "2       P003   Kiran   NaN   Neurology     2025-03-03   10000.0\n",
      "3       P004   Amith  60.0  Cardiology     2025-01-22  200000.0\n",
      "4       P005  Suresh  25.0      Cancer     2025-04-06   80000.0\n",
      "5       P006     NaN  50.0         ICU     2025-05-30       NaN\n",
      "\n",
      "DataFrame INFO : \n",
      "<class 'pandas.core.frame.DataFrame'>\n",
      "RangeIndex: 6 entries, 0 to 5\n",
      "Data columns (total 6 columns):\n",
      " #   Column          Non-Null Count  Dtype  \n",
      "---  ------          --------------  -----  \n",
      " 0   Patient_ID      6 non-null      object \n",
      " 1   Name            5 non-null      object \n",
      " 2   Age             5 non-null      float64\n",
      " 3   Department      6 non-null      object \n",
      " 4   Admission_Date  6 non-null      object \n",
      " 5   Bill            5 non-null      float64\n",
      "dtypes: float64(2), object(4)\n",
      "memory usage: 420.0+ bytes\n",
      "None\n",
      "\n",
      "Summary Statistics : \n",
      "             Age           Bill\n",
      "count   5.000000       5.000000\n",
      "mean   39.800000   74600.160000\n",
      "std    14.669697   78260.928695\n",
      "min    25.000000    7000.800000\n",
      "25%    30.000000   10000.000000\n",
      "50%    34.000000   76000.000000\n",
      "75%    50.000000   80000.000000\n",
      "max    60.000000  200000.000000\n"
     ]
    }
   ],
   "source": [
    "try:\n",
    "    df = pd.read_csv('hospital_data.csv')\n",
    "    print(\"\\nHospital DataFrame : \")\n",
    "    print(df)\n",
    "    # Display basic info\n",
    "    print(\"\\nDataFrame INFO : \")\n",
    "    print(df.info())\n",
    "    print(\"\\nSummary Statistics : \")\n",
    "    print(df.describe())\n",
    "except FileNotFoundError:\n",
    "    print(\"Error: The file 'hospital_data.csv' was not found\")\n"
   ]
  },
  {
   "cell_type": "code",
   "execution_count": 84,
   "id": "c940f96f-76c5-42dc-abf4-ee290c208b5e",
   "metadata": {},
   "outputs": [
    {
     "name": "stdout",
     "output_type": "stream",
     "text": [
      "\n",
      "Original hospital DataFrame:\n",
      "  Patient_ID    Name   Age  Department Admission_Date      Bill\n",
      "0       P001   Vijay  34.0      Corona     2025-01-15    7000.8\n",
      "1       P002    Ajay  30.0      Cancer     2025-02-10   76000.0\n",
      "2       P003   Kiran   NaN   Neurology     2025-03-03   10000.0\n",
      "3       P004   Amith  60.0  Cardiology     2025-01-22  200000.0\n",
      "4       P005  Suresh  25.0      Cancer     2025-04-06   80000.0\n",
      "5       P006     NaN  50.0         ICU     2025-05-30       NaN\n",
      "\n",
      "Missing Values:\n",
      "   Patient_ID   Name    Age  Department  Admission_Date   Bill\n",
      "0       False  False  False       False           False  False\n",
      "1       False  False  False       False           False  False\n",
      "2       False  False   True       False           False  False\n",
      "3       False  False  False       False           False  False\n",
      "4       False  False  False       False           False  False\n",
      "5       False   True  False       False           False   True\n",
      "\n",
      "DataFrame After Filling By Default : \n",
      "  Patient_ID     Name   Age  Department Admission_Date      Bill\n",
      "0       P001    Vijay  34.0      Corona     2025-01-15    7000.8\n",
      "1       P002     Ajay  30.0      Cancer     2025-02-10   76000.0\n",
      "2       P003    Kiran  39.8   Neurology     2025-03-03   10000.0\n",
      "3       P004    Amith  60.0  Cardiology     2025-01-22  200000.0\n",
      "4       P005   Suresh  25.0      Cancer     2025-04-06   80000.0\n",
      "5       P006  Unknown  50.0         ICU     2025-05-30       0.0\n"
     ]
    },
    {
     "data": {
      "text/plain": [
       "Department\n",
       "Cancer        156000.0\n",
       "Cardiology    200000.0\n",
       "Corona          7000.8\n",
       "ICU                0.0\n",
       "Neurology      10000.0\n",
       "Name: Bill, dtype: float64"
      ]
     },
     "execution_count": 84,
     "metadata": {},
     "output_type": "execute_result"
    }
   ],
   "source": [
    "df = pd.read_csv('hospital_data.csv')\n",
    "print(\"\\nOriginal hospital DataFrame:\")\n",
    "print(df)\n",
    "# Check missing values\n",
    "print(\"\\nMissing Values:\")\n",
    "print(df.isna())\n",
    "# Create a copy to fill missing values\n",
    "df_filled = df.copy()\n",
    "# Fill missing 'Name' values with 'Unknown'\n",
    "df_filled['Name'] = df_filled['Name'].fillna('Unknown')\n",
    "df_filled['Age'] = df_filled['Age'].fillna(df_filled['Age'].mean())\n",
    "df_filled['Bill'] = df_filled['Bill'].fillna(0)\n",
    "print(\"\\nDataFrame After Filling By Default : \")\n",
    "print(df_filled)\n",
    "\n",
    "#df.groupby('column_name')[ 'another_column' ].aggregation_function()\n",
    "df.groupby('Department')['Bill'].sum()\n"
   ]
  },
  {
   "cell_type": "code",
   "execution_count": null,
   "id": "9a8c477b-74bf-4ce7-a739-bf7de7412d42",
   "metadata": {},
   "outputs": [],
   "source": []
  }
 ],
 "metadata": {
  "kernelspec": {
   "display_name": "Python 3 (ipykernel)",
   "language": "python",
   "name": "python3"
  },
  "language_info": {
   "codemirror_mode": {
    "name": "ipython",
    "version": 3
   },
   "file_extension": ".py",
   "mimetype": "text/x-python",
   "name": "python",
   "nbconvert_exporter": "python",
   "pygments_lexer": "ipython3",
   "version": "3.12.7"
  }
 },
 "nbformat": 4,
 "nbformat_minor": 5
}
