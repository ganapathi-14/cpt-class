{
 "cells": [
  {
   "cell_type": "code",
   "execution_count": 9,
   "id": "c76c226d-a261-4ea9-bf47-b639c722a045",
   "metadata": {},
   "outputs": [],
   "source": [
    "import pandas as pd"
   ]
  },
  {
   "cell_type": "code",
   "execution_count": 13,
   "id": "ba90a9a0-81ec-4720-bd54-3da3733cfc21",
   "metadata": {},
   "outputs": [
    {
     "name": "stdout",
     "output_type": "stream",
     "text": [
      "Enter 3 names seperated with space: \n"
     ]
    },
    {
     "name": "stdin",
     "output_type": "stream",
     "text": [
      " ganapathi kousik shyam\n"
     ]
    },
    {
     "name": "stdout",
     "output_type": "stream",
     "text": [
      "Enter 3 index labels : \n"
     ]
    },
    {
     "name": "stdin",
     "output_type": "stream",
     "text": [
      "  1 2 3\n"
     ]
    },
    {
     "name": "stdout",
     "output_type": "stream",
     "text": [
      "Created a new series: \n",
      "1    ganapathi\n",
      "2       kousik\n",
      "3        shyam\n",
      "dtype: object\n"
     ]
    }
   ],
   "source": [
    "print(\"Enter 3 names seperated with space: \")\n",
    "names=input().strip().split()\n",
    "print(\"Enter 3 index labels : \")\n",
    "indices=input().strip().split()\n",
    "try:\n",
    "  if len(names) !=3 or len (indices) !=3:\n",
    "    raise ValueError(\"Please provide exact names with indices\")\n",
    "  series= pd.Series(data=names,index=indices)\n",
    "  print(\"Created a new series: \")\n",
    "  print(series)\n",
    "except ValueError as e:\n",
    "    print(f\"Error : {e} \")"
   ]
  },
  {
   "cell_type": "code",
   "execution_count": 19,
   "id": "07b10ccd-48e3-45c1-be89-c134765cb1b1",
   "metadata": {},
   "outputs": [
    {
     "name": "stdout",
     "output_type": "stream",
     "text": [
      "Enter 4 random numbers, space separated:\n"
     ]
    },
    {
     "name": "stdin",
     "output_type": "stream",
     "text": [
      " 1 5 14 17\n"
     ]
    },
    {
     "name": "stdout",
     "output_type": "stream",
     "text": [
      "Series data:\n",
      "0     1.0\n",
      "1     5.0\n",
      "2    14.0\n",
      "3    17.0\n",
      "dtype: float64\n",
      "\n",
      "Filtered data (values > 10):\n",
      "2    14.0\n",
      "3    17.0\n",
      "dtype: float64\n"
     ]
    }
   ],
   "source": [
    "import pandas as pd\n",
    "\n",
    "print(\"Enter 4 random numbers, space separated:\")\n",
    "numbers = input().strip().split()\n",
    "\n",
    "# Convert input strings to floats\n",
    "numbers = [float(num) for num in numbers]\n",
    "try:\n",
    "    # Check if exactly 4 numbers were provided\n",
    "    if len(numbers) != 4:\n",
    "        raise ValueError(\"Please provide exactly 4 numbers.\")   \n",
    "    # Create pandas Series\n",
    "    total_data = pd.Series(numbers)\n",
    "    print(\"Series data:\")\n",
    "    print(total_data)    \n",
    "    # Filter values greater than 10\n",
    "    filtered = total_data[total_data > 10]\n",
    "    #0->5 1->15 2->8 3->18\n",
    "    print(\"\\nFiltered data (values > 10):\")\n",
    "    print(filtered)   \n",
    "except ValueError as e:\n",
    "    print(\"Error : \", e)\n"
   ]
  },
  {
   "cell_type": "code",
   "execution_count": 37,
   "id": "af5034cc-9207-4318-a5ed-e76e714ecb9e",
   "metadata": {},
   "outputs": [
    {
     "name": "stdout",
     "output_type": "stream",
     "text": [
      "Enter 5 strings space separated:\n"
     ]
    },
    {
     "name": "stdin",
     "output_type": "stream",
     "text": [
      " Sai kousaik Habaab Shyam gana\n"
     ]
    },
    {
     "name": "stdout",
     "output_type": "stream",
     "text": [
      "Enter substring:\n"
     ]
    },
    {
     "name": "stdin",
     "output_type": "stream",
     "text": [
      " ai\n"
     ]
    },
    {
     "name": "stdout",
     "output_type": "stream",
     "text": [
      "\n",
      "Original Series:\n",
      "0        Sai\n",
      "1    kousaik\n",
      "2     Habaab\n",
      "3      Shyam\n",
      "4       gana\n",
      "dtype: object\n",
      "\n",
      "Strings containing 'ai' (case-insensitive):\n",
      "0        Sai\n",
      "1    kousaik\n",
      "dtype: object\n"
     ]
    }
   ],
   "source": [
    "print(\"Enter 5 strings space separated:\")\n",
    "strings = input().strip().split()\n",
    "print(\"Enter substring:\")\n",
    "substring = input().strip()\n",
    "\n",
    "try:\n",
    "    if len(strings) != 5:\n",
    "        raise ValueError(\"Please provide exactly 5 strings.\")\n",
    "    series = pd.Series(strings)\n",
    "    print(\"\\nOriginal Series:\")\n",
    "    print(series)\n",
    "    \n",
    "    # Fix typo 'eries' to 'series'\n",
    "    filtered_series = series[series.str.lower().str.contains(substring.lower(), na=False)]\n",
    "    \n",
    "    print(f\"\\nStrings containing '{substring}' (case-insensitive):\")\n",
    "    if not filtered_series.empty:\n",
    "        print(filtered_series)\n",
    "    else:\n",
    "        print(\"No match found.\")\n",
    "except ValueError as e:\n",
    "    print(f\"Error: {e}\")\n"
   ]
  },
  {
   "cell_type": "code",
   "execution_count": 43,
   "id": "56e82ec3-bfc1-4b72-bd3a-8c8a6373aa45",
   "metadata": {},
   "outputs": [
    {
     "name": "stdout",
     "output_type": "stream",
     "text": [
      "\n",
      "Original series:\n",
      "a    10.0\n",
      "b     NaN\n",
      "c    30.0\n",
      "d     NaN\n",
      "e    50.0\n",
      "dtype: float64\n",
      "\n",
      "Missing values:\n",
      "a    False\n",
      "b     True\n",
      "c    False\n",
      "d     True\n",
      "e    False\n",
      "dtype: bool\n",
      "\n",
      "Series after filling NaN with 0:\n",
      "a    10.0\n",
      "b     0.0\n",
      "c    30.0\n",
      "d     0.0\n",
      "e    50.0\n",
      "dtype: float64\n",
      "\n",
      " series after droppng missing values : \n",
      "a    10.0\n",
      "c    30.0\n",
      "e    50.0\n",
      "dtype: float64\n"
     ]
    }
   ],
   "source": [
    "'''missing value operation on NaN'''\n",
    "import pandas as pd\n",
    "import numpy as np\n",
    "\n",
    "# Create a Series with some NaN values\n",
    "series = pd.Series([10, np.nan, 30, np.nan, 50], index=['a', 'b', 'c', 'd', 'e'])\n",
    "\n",
    "print(\"\\nOriginal series:\")\n",
    "print(series)\n",
    "\n",
    "# Check missing values\n",
    "print(\"\\nMissing values:\")\n",
    "print(series.isna())\n",
    "\n",
    "# Replace NaN with 0\n",
    "filled_series = series.fillna(0)\n",
    "\n",
    "print(\"\\nSeries after filling NaN with 0:\")\n",
    "print(filled_series)\n",
    "\n",
    "dropped_series=series.dropna()\n",
    "print(\"\\n series after droppng missing values : \")\n",
    "print(dropped_series)"
   ]
  },
  {
   "cell_type": "code",
   "execution_count": 46,
   "id": "0bde4d14-1228-4676-b2e9-ce3ebcaf410b",
   "metadata": {},
   "outputs": [
    {
     "name": "stdout",
     "output_type": "stream",
     "text": [
      "a    10.0\n",
      "c    30.0\n",
      "e    50.0\n",
      "dtype: float64\n"
     ]
    }
   ],
   "source": []
  },
  {
   "cell_type": "code",
   "execution_count": 52,
   "id": "d16d92d0-ce91-4516-b45e-e5a3476b2c73",
   "metadata": {},
   "outputs": [
    {
     "name": "stdout",
     "output_type": "stream",
     "text": [
      "Enter 5 random numbers, space separated:\n"
     ]
    },
    {
     "name": "stdin",
     "output_type": "stream",
     "text": [
      " 10 20 30 40 50\n"
     ]
    },
    {
     "name": "stdout",
     "output_type": "stream",
     "text": [
      "\n",
      "Original series:\n",
      "a    10.0\n",
      "b    20.0\n",
      "c    30.0\n",
      "d    40.0\n",
      "e    50.0\n",
      "dtype: float64\n",
      "\n",
      "Statistics:\n",
      "Mean: 30.0\n",
      "Sum: 150.0\n",
      "Max: 50.0\n",
      "Min: 10.0\n",
      "\n",
      " Attributes \n",
      "Index : ['a', 'b', 'c', 'd', 'e']\n",
      "Values : [10.0, 20.0, 30.0, 40.0, 50.0]\n",
      "DataType : float64\n"
     ]
    }
   ],
   "source": [
    "import pandas as pd\n",
    "\n",
    "print(\"Enter 5 random numbers, space separated:\")\n",
    "numbers = input().strip().split()\n",
    "\n",
    "# Convert input strings to floats\n",
    "numbers = [float(num) for num in numbers]\n",
    "\n",
    "try:\n",
    "    if len(numbers) != 5:\n",
    "        raise ValueError(\"Please enter 5 numbers only!!!\")\n",
    "    \n",
    "    series = pd.Series(numbers, index=['a', 'b', 'c', 'd', 'e'])\n",
    "    print(\"\\nOriginal series:\")\n",
    "    print(series)\n",
    "    \n",
    "    # Statistics\n",
    "    print(\"\\nStatistics:\")\n",
    "    print(f\"Mean: {series.mean()}\")\n",
    "    print(f\"Sum: {series.sum()}\")\n",
    "    print(f\"Max: {series.max()}\")\n",
    "    print(f\"Min: {series.min()}\")\n",
    "#Attributes\n",
    "    print(\"\\n Attributes \" )\n",
    "    print(f\"Index : {series.index.tolist()}\")\n",
    "    print(f\"Values : {series.values.tolist()}\")\n",
    "    print(f\"DataType : {series.dtype}\")\n",
    "except ValueError as e:\n",
    "    print(f\"Error : {e}\")\n",
    "\n"
   ]
  },
  {
   "cell_type": "code",
   "execution_count": 58,
   "id": "aac86594-0266-49af-b9c1-6a1c546e58d0",
   "metadata": {},
   "outputs": [
    {
     "name": "stdout",
     "output_type": "stream",
     "text": [
      "Enter 4 random numbers, space separated:\n"
     ]
    },
    {
     "name": "stdin",
     "output_type": "stream",
     "text": [
      " 10 20 30 40\n"
     ]
    },
    {
     "name": "stdout",
     "output_type": "stream",
     "text": [
      "\n",
      " Original Series: \n",
      "a    10.0\n",
      "b    20.0\n",
      "c    30.0\n",
      "d    40.0\n",
      "dtype: float64\n",
      "\n",
      " series after doubling series:\n",
      "a    20.0\n",
      "b    40.0\n",
      "c    60.0\n",
      "d    80.0\n",
      "dtype: float64\n",
      "\n",
      " series after adding 100:\n",
      "a    110.0\n",
      "b    120.0\n",
      "c    130.0\n",
      "d    140.0\n",
      "dtype: float64\n"
     ]
    }
   ],
   "source": [
    "print(\"Enter 4 random numbers, space separated:\")\n",
    "numbers= input().strip().split()\n",
    "numbers = [float(num) for num in numbers]\n",
    "try:\n",
    "   if len(numbers) != 4:\n",
    "      raise ValueError(\"Give 4 numbers only !!!\")\n",
    "   series= pd. Series (numbers, index=['a','b','c','d'])\n",
    "   print(\"\\n Original Series: \")\n",
    "   print(series)\n",
    "#doubling values vector operations\n",
    "   doubled=series*2\n",
    "   print(\"\\n series after doubling series:\")\n",
    "   print(doubled)\n",
    "# adding 100 to all values vector operations\n",
    "   added=series+100\n",
    "   print(\"\\n series after adding 100:\")\n",
    "   print(added)\n",
    "except ValueError as e:\n",
    "  print(f\"Error: (e)\")"
   ]
  },
  {
   "cell_type": "code",
   "execution_count": null,
   "id": "4e266c7b-bdff-4eed-9cc8-4afa4d9dad6d",
   "metadata": {},
   "outputs": [],
   "source": []
  }
 ],
 "metadata": {
  "kernelspec": {
   "display_name": "Python 3 (ipykernel)",
   "language": "python",
   "name": "python3"
  },
  "language_info": {
   "codemirror_mode": {
    "name": "ipython",
    "version": 3
   },
   "file_extension": ".py",
   "mimetype": "text/x-python",
   "name": "python",
   "nbconvert_exporter": "python",
   "pygments_lexer": "ipython3",
   "version": "3.12.7"
  }
 },
 "nbformat": 4,
 "nbformat_minor": 5
}
