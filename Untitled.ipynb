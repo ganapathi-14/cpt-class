{
 "cells": [
  {
   "cell_type": "code",
   "execution_count": 71,
   "id": "cadd0ba7-ab8a-4284-82a0-3556d10bd494",
   "metadata": {},
   "outputs": [
    {
     "name": "stdout",
     "output_type": "stream",
     "text": [
      "33\n",
      "8\n",
      "10\n",
      "5\n"
     ]
    }
   ],
   "source": [
    "# var= lambda v1,v2...:operation/condition/boolean expression\n",
    "x=lambda num:num+22\n",
    "print(x(11))\n",
    "\n",
    "add = lambda a, b: a + b\n",
    "print(add(3, 5))  # Output: 8\n",
    "\n",
    "add = lambda a: a + a\n",
    "print(add(5))  # Output: 8\n",
    "\n",
    "#MAX VALUE \n",
    "big=lambda x,y : x if x>y else y\n",
    "print(big(5,2))"
   ]
  },
  {
   "cell_type": "code",
   "execution_count": 75,
   "id": "d0ace8f9-4007-4b17-b5d3-e861ff88746b",
   "metadata": {},
   "outputs": [
    {
     "name": "stdout",
     "output_type": "stream",
     "text": [
      "[22, 44, 66, 88]\n"
     ]
    }
   ],
   "source": [
    "nums=[11,22,33,44,55,66,77,88]\n",
    "e=list(filter(lambda num:num%2==0,nums))\n",
    "print(e)"
   ]
  },
  {
   "cell_type": "code",
   "execution_count": 3,
   "id": "98ee8b53-344c-4bf3-a965-e11b45b3b49c",
   "metadata": {},
   "outputs": [
    {
     "name": "stdout",
     "output_type": "stream",
     "text": [
      "[(2, 11), (66, 66), (11, 99)]\n",
      "[(2, 11), (11, 99), (66, 66)]\n",
      "[(2, 11), (11, 99), (66, 66)]\n"
     ]
    }
   ],
   "source": [
    "packs = [(11, 99), (2, 11), (66, 66)]\n",
    "result = sorted(packs, key=lambda x: x[1])\n",
    "print(result)\n",
    "\n",
    "packs = [(11, 99), (2, 11), (66, 66)]\n",
    "packs.sort()\n",
    "print(packs)\n",
    "\n",
    "packs = [(11, 99), (2, 11), (66, 66)]\n",
    "sorted_packs = sorted(packs)\n",
    "print(sorted_packs)"
   ]
  },
  {
   "cell_type": "code",
   "execution_count": 7,
   "id": "063ae84f-7f6f-4a1c-900a-e5da8f9c38d2",
   "metadata": {},
   "outputs": [
    {
     "name": "stdout",
     "output_type": "stream",
     "text": [
      "10\n",
      "8\n",
      "8\n"
     ]
    }
   ],
   "source": [
    "def b(n):\n",
    " return lambda x:x*n\n",
    "a= b(2)\n",
    "print(a(5))\n",
    "\n",
    "\n",
    "def a(n):\n",
    "  return n**3 \n",
    "b = lambda x: x**3\n",
    "print(a(2))\n",
    "print(b(2))"
   ]
  },
  {
   "cell_type": "code",
   "execution_count": 19,
   "id": "489cee57-66f2-4fb0-985a-f6bdb38fda98",
   "metadata": {},
   "outputs": [
    {
     "name": "stdout",
     "output_type": "stream",
     "text": [
      "Sai Ganapathi\n",
      "1234\n"
     ]
    }
   ],
   "source": [
    "'''Code to declare the longest string using lambda '''\n",
    "long = lambda a, b: a if len(a) > len(b) else b\n",
    "print(long('Kousik', 'Sai Ganapathi'))  \n",
    "print(long('1234', '11'))               "
   ]
  },
  {
   "cell_type": "code",
   "execution_count": 21,
   "id": "c475957d-fcab-4a8b-9284-27cef039943c",
   "metadata": {},
   "outputs": [
    {
     "name": "stdout",
     "output_type": "stream",
     "text": [
      "True\n",
      "False\n",
      "True\n"
     ]
    }
   ],
   "source": [
    "x = 10\n",
    "print(isinstance(x, int))  # True, because 10 is an integer\n",
    "\n",
    "y = \"hello\"\n",
    "print(isinstance(y, int))  # False, because \"hello\" is a string, not an int\n",
    "\n",
    "z = 4.5\n",
    "print(isinstance(z, (int, float)))  # True, because 4.5 is a float, and we checked for int or float\n"
   ]
  },
  {
   "cell_type": "code",
   "execution_count": 23,
   "id": "3d309f5c-1614-4efa-8103-6d2f2accf30a",
   "metadata": {},
   "outputs": [
    {
     "name": "stdout",
     "output_type": "stream",
     "text": [
      "[(2, 11), (66, 66), (11, 99)]\n",
      "[(2, 11), (66, 66), (11, 99)]\n"
     ]
    }
   ],
   "source": [
    "'''data=[10, 'hi', 4.5, 'students', 3,100]\n",
    "ffrom the list containing numbers and strings, extract only integers using \n",
    "lambda function and list comprehension\n",
    "o/p: [10,3,100].using type()'''\n",
    "\n",
    "data = [10, 'hi', 4.5, 'students', 3, 100]\n",
    "result1 = [x for x in data if (lambda y: type(y) == int)(x)]\n",
    "print(result)\n",
    "\n",
    "result2 = [x for x in data if (lambda y: isinstance(y, int))(x)]\n",
    "print(result)\n"
   ]
  },
  {
   "cell_type": "code",
   "execution_count": 25,
   "id": "8c1b1c69-f533-4277-a025-485e53d6cdce",
   "metadata": {},
   "outputs": [
    {
     "name": "stdout",
     "output_type": "stream",
     "text": [
      "24\n",
      "24\n",
      "24\n"
     ]
    }
   ],
   "source": [
    "#Factorial\n",
    "fac=(lambda f: lambda  n:1 if n==0 else \n",
    "     n*f(f)(n-1))(lambda f: lambda n:1 if n==0 else n*f(f)(n-1))\n",
    "print(fac(4))\n",
    "\n",
    "\n",
    "n = 4\n",
    "fact = (lambda f: (lambda x: f(f, x)))(lambda self, \n",
    "        k: 1 if k == 0 else k * self(self, k-1))\n",
    "print(fact(n))  # Output: 24\n",
    "\n",
    "\n",
    "fac = (lambda f: (lambda n: 1 if n == 0 else n * f(f)(n - 1)))  # outer lambda takes f, inner takes n\n",
    "fac = fac(fac)  # apply fac to itself to enable recursion\n",
    "print(fac(4))  # Output: 24\n"
   ]
  },
  {
   "cell_type": "code",
   "execution_count": 27,
   "id": "5923f80d-aa20-4168-94ed-9b4d16add83d",
   "metadata": {},
   "outputs": [
    {
     "name": "stdout",
     "output_type": "stream",
     "text": [
      "15\n",
      "10\n"
     ]
    }
   ],
   "source": [
    "#Sum of Digits\n",
    "\n",
    "num = 3426\n",
    "sum_digits = lambda n: 0 if n == 0 else n % 10 + sum_digits(n // 10)\n",
    "print(sum_digits(num))  # 3+4+2+6=Output: 15\n",
    "\n",
    "\n",
    "dsum = (lambda f: lambda n: 0 if n == 0 else n % 10 + f(f)(n // 10))(lambda f: lambda n: 0 if n == 0 else n % 10 + f(f)(n // 10))\n",
    "print(dsum(1234))  # Output: 10\n"
   ]
  },
  {
   "cell_type": "code",
   "execution_count": 41,
   "id": "57f7abae-2268-493d-9aac-63f16f27c85c",
   "metadata": {},
   "outputs": [
    {
     "name": "stdout",
     "output_type": "stream",
     "text": [
      "['PEN', 'CAP', 'BAT']\n"
     ]
    }
   ],
   "source": [
    "'''List comprehension  With LAMBDA'''\n",
    "data=['pen','cap','bat']\n",
    "upper=[(lambda x: x.upper())(d) for d in data]\n",
    "print(upper)"
   ]
  },
  {
   "cell_type": "code",
   "execution_count": 11,
   "id": "a10f9a60-5ab0-4a96-bd1f-fec7f44ecab0",
   "metadata": {},
   "outputs": [
    {
     "name": "stdout",
     "output_type": "stream",
     "text": [
      "SaiaS...\n",
      "['Asodu', 'Ganapathi', 'Sai']\n"
     ]
    }
   ],
   "source": [
    "s = '...SaiaS'\n",
    "r = lambda x: x[::-1]  \n",
    "print(r(s))  "
   ]
  },
  {
   "cell_type": "code",
   "execution_count": 17,
   "id": "a4cc7d62-7644-43a9-9711-f1a43e7a21e3",
   "metadata": {},
   "outputs": [
    {
     "name": "stdout",
     "output_type": "stream",
     "text": [
      "['Asodu', 'Ganapathi', 'Sai']\n",
      "['iaS', 'ihtapanaG', 'udosA']\n"
     ]
    }
   ],
   "source": [
    "s = ['Sai','Ganapathi','Asodu']\n",
    "r = lambda x: x[::-1]  \n",
    "print(r(s)) \n",
    "\n",
    "\n",
    "words = ['Sai','Ganapathi','Asodu']\n",
    "r = [(lambda w: w[::-1])(word) for word in words]\n",
    "print(r)"
   ]
  },
  {
   "cell_type": "code",
   "execution_count": 19,
   "id": "829d26fa-3361-4b2d-ac04-95d200fcbc3b",
   "metadata": {},
   "outputs": [
    {
     "name": "stdout",
     "output_type": "stream",
     "text": [
      "['hi', 'students', 'bye']\n"
     ]
    }
   ],
   "source": [
    "n = ['hi', ' ', 'students', ' ', 'bye']\n",
    "m = [s for s in n if (lambda x: x != ' ')(s)]\n",
    "print(m)\n"
   ]
  },
  {
   "cell_type": "code",
   "execution_count": null,
   "id": "6188f364-bbca-4070-b2d6-1cf8c3729e5a",
   "metadata": {},
   "outputs": [],
   "source": []
  }
 ],
 "metadata": {
  "kernelspec": {
   "display_name": "Python 3 (ipykernel)",
   "language": "python",
   "name": "python3"
  },
  "language_info": {
   "codemirror_mode": {
    "name": "ipython",
    "version": 3
   },
   "file_extension": ".py",
   "mimetype": "text/x-python",
   "name": "python",
   "nbconvert_exporter": "python",
   "pygments_lexer": "ipython3",
   "version": "3.12.7"
  }
 },
 "nbformat": 4,
 "nbformat_minor": 5
}
