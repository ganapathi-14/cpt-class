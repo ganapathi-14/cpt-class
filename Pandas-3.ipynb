{
 "cells": [
  {
   "cell_type": "code",
   "execution_count": 10,
   "id": "edc51151-a7fd-4d47-aa63-725da6e624f4",
   "metadata": {},
   "outputs": [],
   "source": [
    "import pandas as pd"
   ]
  },
  {
   "cell_type": "code",
   "execution_count": 11,
   "id": "efe0a204-6709-41bd-a8c1-c200199f92d2",
   "metadata": {},
   "outputs": [
    {
     "name": "stdout",
     "output_type": "stream",
     "text": [
      "      Name  Price\n",
      "0   apples     50\n",
      "1  oranges     30\n",
      "2     kiwi     80\n"
     ]
    }
   ],
   "source": [
    "names= pd.Series(['apples', 'oranges', 'kiwi'])\n",
    "df= names.to_frame (name='Name')\n",
    "#add new coulmn\n",
    "df['Price'] = [50, 30, 80]\n",
    "print(df)"
   ]
  },
  {
   "cell_type": "code",
   "execution_count": 18,
   "id": "2a51e863-6150-46df-b91b-485daa4e2dbe",
   "metadata": {},
   "outputs": [
    {
     "name": "stdout",
     "output_type": "stream",
     "text": [
      "\n",
      " Original Hospital DataFrame\n",
      "  Patient_ID    Name   Age  Department Admission_Date      Bill\n",
      "0       P001   Vijay  34.0      Corona     2025-01-15    7000.8\n",
      "1       P002    Ajay  30.0      Cancer     2025-02-10   76000.0\n",
      "2       P003   Kiran   NaN   Neurology     2025-03-03   10000.0\n",
      "3       P004   Amith  60.0  Cardiology     2025-01-22  200000.0\n",
      "4       P005  Suresh  25.0      Cancer     2025-04-06   80000.0\n",
      "5       P006     NaN  50.0         ICU     2025-05-30       NaN\n",
      "\n",
      "Average Medical Cost by Department \n",
      "Department\n",
      "Cancer         78000.0\n",
      "Cardiology    200000.0\n",
      "Corona          7000.8\n",
      "ICU                NaN\n",
      "Neurology      10000.0\n",
      "Name: Bill, dtype: float64\n"
     ]
    }
   ],
   "source": [
    "try:\n",
    "    df=pd.read_csv('hospital_data.csv')\n",
    "    print(\"\\n Original Hospital DataFrame\")\n",
    "    print(df)\n",
    "#grouping by department\n",
    "    grouped=df.groupby ('Department') ['Bill'].mean()\n",
    "    print(\"\\nAverage Medical Cost by Department \")\n",
    "    print(grouped)\n",
    "except FileNotFoundError:\n",
    "   print(\"Error: 'Hospital_data.csv' Not Found\")"
   ]
  },
  {
   "cell_type": "code",
   "execution_count": 19,
   "id": "ff33d07b-c414-4c38-8ef5-51c7b0e619ff",
   "metadata": {},
   "outputs": [
    {
     "name": "stdout",
     "output_type": "stream",
     "text": [
      "\n",
      " Original Hospital DataFrame\n",
      "  Patient_ID    Name   Age  Department Admission_Date      Bill\n",
      "0       P001   Vijay  34.0      Corona     2025-01-15    7000.8\n",
      "1       P002    Ajay  30.0      Cancer     2025-02-10   76000.0\n",
      "2       P003   Kiran   NaN   Neurology     2025-03-03   10000.0\n",
      "3       P004   Amith  60.0  Cardiology     2025-01-22  200000.0\n",
      "4       P005  Suresh  25.0      Cancer     2025-04-06   80000.0\n",
      "5       P006     NaN  50.0         ICU     2025-05-30       NaN\n",
      "\n",
      "Sorted by Medical Bills (descending order) : \n",
      "  Patient_ID    Name   Age  Department Admission_Date      Bill   Discount\n",
      "3       P004   Amith  60.0  Cardiology     2025-01-22  200000.0  180000.00\n",
      "4       P005  Suresh  25.0      Cancer     2025-04-06   80000.0   72000.00\n",
      "1       P002    Ajay  30.0      Cancer     2025-02-10   76000.0   68400.00\n",
      "2       P003   Kiran   NaN   Neurology     2025-03-03   10000.0    9000.00\n",
      "0       P001   Vijay  34.0      Corona     2025-01-15    7000.8    6300.72\n",
      "5       P006     NaN  50.0         ICU     2025-05-30       NaN        NaN\n"
     ]
    }
   ],
   "source": [
    "try:\n",
    "  df=pd.read_csv('hospital_data.csv')\n",
    "  print(\"\\n Original Hospital DataFrame\")\n",
    "  print(df)\n",
    "# add discount_cost column (10% discount)\n",
    "  df['Discount']=df['Bill']*0.9\n",
    "#sorting by bill\n",
    "  sorted_df=df.sort_values('Bill',ascending =False)\n",
    "  print(\"\\nSorted by Medical Bills (descending order) : \")\n",
    "  print(sorted_df)\n",
    "except FileNotFoundError:\n",
    "   print(\"Error: 'Hospital_data.csv' Not Found\")"
   ]
  },
  {
   "cell_type": "code",
   "execution_count": 21,
   "id": "cc1557f9-9f67-4963-9f9f-7513e8692a20",
   "metadata": {},
   "outputs": [
    {
     "name": "stdout",
     "output_type": "stream",
     "text": [
      "\n",
      " Original Hospital DataFrame\n",
      "  Patient_ID    Name   Age  Department Admission_Date      Bill\n",
      "0       P001   Vijay  34.0      Corona     2025-01-15    7000.8\n",
      "1       P002    Ajay  30.0      Cancer     2025-02-10   76000.0\n",
      "2       P003   Kiran   NaN   Neurology     2025-03-03   10000.0\n",
      "3       P004   Amith  60.0  Cardiology     2025-01-22  200000.0\n",
      "4       P005  Suresh  25.0      Cancer     2025-04-06   80000.0\n",
      "5       P006     NaN  50.0         ICU     2025-05-30       NaN\n",
      "\n",
      "Data Frame With Status Column : \n",
      "  Patient_ID    Name   Age  Department Admission_Date      Bill   Status\n",
      "0       P001   Vijay  34.0      Corona     2025-01-15    7000.8    Adult\n",
      "1       P002    Ajay  30.0      Cancer     2025-02-10   76000.0    Adult\n",
      "2       P003   Kiran   NaN   Neurology     2025-03-03   10000.0  Unknown\n",
      "3       P004   Amith  60.0  Cardiology     2025-01-22  200000.0   Senior\n",
      "4       P005  Suresh  25.0      Cancer     2025-04-06   80000.0    Adult\n",
      "5       P006     NaN  50.0         ICU     2025-05-30       NaN   Senior\n",
      "\n",
      "Modified Dataframe saved to 'hospital_data_updated.csv' . \n"
     ]
    }
   ],
   "source": [
    "try:\n",
    "  df=pd.read_csv('hospital_data.csv')\n",
    "  print(\"\\n Original Hospital DataFrame\")\n",
    "  print(df)\n",
    "#Add a status column, based on age\n",
    "  df['Status']= df ['Age'].apply(lambda x:'Senior' if x>=50 else \n",
    "                                 'Adult' if x>=18 else 'Unknown')\n",
    "  print(\"\\nData Frame With Status Column : \")\n",
    "  print(df)\n",
    "#Saving to csv\n",
    "  df.to_csv('hospital_data_updated.csv', index=False)\n",
    "  print(\"\\nModified Dataframe saved to 'hospital_data_updated.csv' . \")\n",
    "except FileNotFoundError:\n",
    "   print(\"Error: 'Hospital_data.csv' Not Found\")    "
   ]
  },
  {
   "cell_type": "code",
   "execution_count": 35,
   "id": "d8b886b4-f7be-4124-9b04-93e90aad89d8",
   "metadata": {},
   "outputs": [
    {
     "name": "stdout",
     "output_type": "stream",
     "text": [
      "\n",
      "Original Hospital Bill:\n",
      "0      7000.8\n",
      "1     76000.0\n",
      "2     10000.0\n",
      "3    200000.0\n",
      "4     80000.0\n",
      "5     14000.0\n",
      "Name: Bill, dtype: float64\n",
      "\n",
      "Enter Patient_ID to update: \n"
     ]
    },
    {
     "name": "stdin",
     "output_type": "stream",
     "text": [
      " P006\n"
     ]
    },
    {
     "name": "stdout",
     "output_type": "stream",
     "text": [
      "Enter new Bill for P006: \n"
     ]
    },
    {
     "name": "stdin",
     "output_type": "stream",
     "text": [
      " 14000\n"
     ]
    },
    {
     "name": "stdout",
     "output_type": "stream",
     "text": [
      "\n",
      "Updated Medical Bill series:\n",
      "0      7000.8\n",
      "1     76000.0\n",
      "2     10000.0\n",
      "3    200000.0\n",
      "4     80000.0\n",
      "5     14000.0\n",
      "Name: Bill, dtype: float64\n",
      "Updated csv saved to 'hospital_data.csv'.\n"
     ]
    }
   ],
   "source": [
    "try:\n",
    "    df = pd.read_csv('hospital_data.csv')\n",
    "    series = df['Bill']\n",
    "    print(\"\\nOriginal Hospital Bill:\")\n",
    "    print(series)\n",
    "\n",
    "    # User manual input\n",
    "    print(\"\\nEnter Patient_ID to update: \")\n",
    "    patient_id = input().strip()\n",
    "    print(f\"Enter new Bill for {patient_id}: \")\n",
    "    new_cost = float(input())\n",
    "    '''\n",
    "    patient_id = input(\"\\nEnter Patient_ID to update: \").strip()\n",
    "    new_cost = float(input(f\"Enter new Bill for {patient_id}: \"))\n",
    "    '''\n",
    "    # Update bill series and save\n",
    "    if patient_id in df['Patient_ID'].values:\n",
    "        index = df[df['Patient_ID'] == patient_id].index[0]\n",
    "        #series[index] = new_cost #Shows CopyWarning\n",
    "        series.at[index] = new_cost  # safer way to update series value\n",
    "        #df.at[index, 'Bill'] = new_cost\n",
    "        print(\"\\nUpdated Medical Bill series:\")\n",
    "        print(series)\n",
    "# Update DataFrame and save\n",
    "        df['Bill'] = series  # Assign the updated series back to the DataFrame column\n",
    "        df.to_csv('hospital_data.csv', index=False)  # Save DataFrame to CSV without the index\n",
    "        print(\"Updated csv saved to 'hospital_data.csv'.\")\n",
    "    else:\n",
    "        print(f\"Error: patient_id {patient_id} not found.\")\n",
    "\n",
    "except FileNotFoundError:\n",
    "    print(\"The file 'hospital_data.csv' was not found.\")\n",
    "except Exception as e:\n",
    "    print(\"An error occurred:\", e)\n"
   ]
  },
  {
   "cell_type": "code",
   "execution_count": null,
   "id": "3b08e586-59b1-474d-abfb-74a3e202902b",
   "metadata": {},
   "outputs": [],
   "source": []
  }
 ],
 "metadata": {
  "kernelspec": {
   "display_name": "Python 3 (ipykernel)",
   "language": "python",
   "name": "python3"
  },
  "language_info": {
   "codemirror_mode": {
    "name": "ipython",
    "version": 3
   },
   "file_extension": ".py",
   "mimetype": "text/x-python",
   "name": "python",
   "nbconvert_exporter": "python",
   "pygments_lexer": "ipython3",
   "version": "3.13.5"
  }
 },
 "nbformat": 4,
 "nbformat_minor": 5
}
