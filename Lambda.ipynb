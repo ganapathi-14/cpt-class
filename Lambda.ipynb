{
 "cells": [
  {
   "cell_type": "code",
   "execution_count": 7,
   "id": "686b3878-86dd-4326-b280-623e95827cb5",
   "metadata": {},
   "outputs": [
    {
     "name": "stdout",
     "output_type": "stream",
     "text": [
      "16\n",
      "16\n"
     ]
    }
   ],
   "source": [
    "#Nested Lambda \n",
    "o=(lambda a: lambda b,c:(a+b) * c) (5)(3, 2)\n",
    "#here a is universal it can access inner lambda values also. and b,c is inner values\n",
    "print(o)\n",
    "# 12(5)\n",
    "#11(3,2).\n",
    "\n",
    "\n",
    "#Single Lambda\n",
    " = (lambda a, b, c: (a + b) * c)(5, 3, 2)\n",
    "print(o)\n"
   ]
  },
  {
   "cell_type": "code",
   "execution_count": 16,
   "id": "97fdf3bb-e849-485f-80f5-cd69a3bd5f90",
   "metadata": {},
   "outputs": [
    {
     "name": "stdout",
     "output_type": "stream",
     "text": [
      "45\n"
     ]
    }
   ],
   "source": [
    "'''a->Universal,b->Global,c&d -> Local\n",
    "(a+b) * (c+d)'''\n",
    "o = (lambda a: lambda b: lambda c,d:(a+b) * (c+d)) (2)(3)(4, 5)\n",
    "print(o)"
   ]
  },
  {
   "cell_type": "code",
   "execution_count": 12,
   "id": "bc0ad4f2-d02b-473b-81e8-e5986d306d63",
   "metadata": {},
   "outputs": [
    {
     "name": "stdout",
     "output_type": "stream",
     "text": [
      "9\n"
     ]
    }
   ],
   "source": [
    "\n",
    "# Step 1: Define a lambda that returns another lambda\n",
    "expr = lambda a: lambda b, c: (a + b) * c\n",
    "\n",
    "# Step 2: Apply outer lambda to 2 → gives you an inner lambda that still takes b and c\n",
    "inner = expr(2)\n",
    "\n",
    "# Step 3: Now apply inner lambda with arguments 1 and 3\n",
    "value = inner(1, 3)\n",
    "\n",
    "# Print the result\n",
    "print(value)  # Output: 9\n"
   ]
  },
  {
   "cell_type": "code",
   "execution_count": 24,
   "id": "4ce0bb41-af2e-43e6-9975-0dac99f217cd",
   "metadata": {},
   "outputs": [
    {
     "name": "stdout",
     "output_type": "stream",
     "text": [
      "123asg\n"
     ]
    }
   ],
   "source": [
    "#Removing White spaces in string\n",
    "a = \" 1 2 3 a s g \"\n",
    "a=a.strip().replace(\" \", \"\")\n",
    "#strip() removes first and last spaces \n",
    "#or a = a.replace(\" \", \"\")\n",
    "print(a)"
   ]
  },
  {
   "cell_type": "code",
   "execution_count": 26,
   "id": "fba9d3b8-f5bc-4268-9bf9-224da9a1f645",
   "metadata": {},
   "outputs": [
    {
     "name": "stdin",
     "output_type": "stream",
     "text": [
      "Enter a :  5\n",
      "Enter x :  3\n"
     ]
    },
    {
     "name": "stdout",
     "output_type": "stream",
     "text": [
      "64\n"
     ]
    }
   ],
   "source": [
    "num = int(input(\"Enter a : \"))   # Example input: 5\n",
    "n = int(input(\"Enter x : \"))     # Example input: 3\n",
    "oper = lambda a: lambda x: (x + a) ** 2\n",
    "numsq = oper(num)  # oper(5) returns: lambda x: (x + 5)**2\n",
    "print(numsq(n))    # numsq(3) → (3 + 5)**2 = 64\n"
   ]
  },
  {
   "cell_type": "code",
   "execution_count": 30,
   "id": "e0125f23-1aa7-4d30-be67-aa1e4f8abc67",
   "metadata": {},
   "outputs": [
    {
     "name": "stdout",
     "output_type": "stream",
     "text": [
      "Division by Zero error!!!\n"
     ]
    }
   ],
   "source": [
    "#(a-b)/(c-d) expression with different modulations\n",
    "try:\n",
    " o = (lambda a: lambda b: lambda c,d: (a-b)/(c-d)) (10) (4) (8,8)\n",
    "except ZeroDivisionError:\n",
    "  print(\"Division by Zero error!!!\")\n",
    "except TypeError:\n",
    "  print(\"Invalid Datatype!!!\") "
   ]
  },
  {
   "cell_type": "code",
   "execution_count": 32,
   "id": "d9d345d7-455c-4695-9e32-eef68422a03e",
   "metadata": {},
   "outputs": [
    {
     "name": "stdout",
     "output_type": "stream",
     "text": [
      "Hi-Students-Good-Morning\n"
     ]
    }
   ],
   "source": [
    "'''simple nested lambda string combining with seperator operation for n attributes'''\n",
    "o= (lambda a: lambda b: lambda c,d:a+'-'+b+'-'+c+'-'+d) ('Hi') (\"Students\") (\"Good\", \"Morning\")\n",
    "print(o)"
   ]
  },
  {
   "cell_type": "code",
   "execution_count": 48,
   "id": "ca57a1e5-4f0e-40dd-800a-0a00d7f5fbb5",
   "metadata": {},
   "outputs": [
    {
     "name": "stdout",
     "output_type": "stream",
     "text": [
      "HI!STUDENTS!!!\n",
      "HI!STUDENTS!!!\n",
      "HI!STUDENTS!!!\n"
     ]
    }
   ],
   "source": [
    "'''given atrributes a, b, c, d are hi,!, students,!!!\n",
    "write a nested lambda to concatinate the abcd, by converting a and c to uppercase ouput: HI!STUDENTS!!!'''\n",
    "\n",
    "f = (lambda a: lambda b: lambda c: lambda d: a.upper() + b + c.upper() + d)(\"hi\")(\"!\")(\"students\")(\"!!!\")\n",
    "print(f)\n",
    "\n",
    "\n",
    "f = lambda a: lambda b: lambda c: lambda d: a.upper() + b + c.upper() + d\n",
    "result = f(\"hi\")(\"!\")(\"students\")(\"!!!\")\n",
    "print(result)\n",
    "\n",
    "\n",
    "f = lambda a: lambda b: lambda c: lambda d: a.upper().replace(\" \", \"\") + b.upper() + c.upper().replace(\" \", \"\") + d\n",
    "result = f(\"h  i\")(\"!\")(\"  students\")(\"!!!\")\n",
    "print(result)"
   ]
  },
  {
   "cell_type": "code",
   "execution_count": 70,
   "id": "4f866d5c-7161-4de8-b2ca-0afc3ba1b1dd",
   "metadata": {},
   "outputs": [
    {
     "name": "stdout",
     "output_type": "stream",
     "text": [
      "ih olleh stneduts srehcaet\n",
      "ih olleh stneduts srehcaet\n",
      "['ih', 'olleh', 'stneduts', 'srehcaet']\n",
      "ih olleh stneduts srehcaet\n"
     ]
    }
   ],
   "source": [
    "''' given atrributes a, b, c, d are hi, hello, students, teachers!!!.\n",
    "write a nested lambda to concatinate the abcd, by Treversing with separater.'''\n",
    "\n",
    "f = (lambda a: lambda b: lambda c: lambda d: a[::-1]+\" \"+ b [::-1]+ \" \"+c[::-1]+\" \" + d[::-1])(\"hi\")(\"hello\")(\"students\")(\"teachers\")\n",
    "print(f)\n",
    "\n",
    "f = (lambda a: lambda b: lambda c,d: a[::-1]+\" \"+ b [::-1]+ \" \"+c[::-1]+\" \" + d[::-1])(\"hi\")(\"hello\")(\"students\",\"teachers\")\n",
    "print(f)\n",
    "\n",
    "f = (lambda a: lambda b: lambda c, d: [a[::-1], b[::-1], c[::-1], d[::-1]])(\"hi\")(\"hello\")(\"students\", \"teachers\")\n",
    "print(f)\n",
    "\n",
    "\n",
    "f = (lambda a: lambda b: lambda c,d: ' '.join([a[::-1]+\" \"+ b [::-1]+ \" \"+c[::-1]+\" \" + d[::-1]]))(\"hi\")(\"hello\")(\"students\",\"teachers\")\n",
    "print(f)"
   ]
  },
  {
   "cell_type": "code",
   "execution_count": 80,
   "id": "389ad0aa-80fc-4c57-922a-42361db93fac",
   "metadata": {},
   "outputs": [
    {
     "name": "stdout",
     "output_type": "stream",
     "text": [
      "[12, 12, 9, 16]\n",
      "[12, 12, 9, 16]\n",
      "[12, 12, 9, 16]\n"
     ]
    }
   ],
   "source": [
    "num=[4,6,3,8]\n",
    "#if element of num greater than 5 then mutltiply it 2 and less than 5 then multiply with 3\n",
    "#output=[12,12,9,16]\n",
    "numbers = lambda x: lambda a: a * 2 if a > x else a * 3\n",
    "above_5 = numbers(5)\n",
    "num = [4, 6, 3, 8]\n",
    "o = list(map(above_5, num))\n",
    "print(o)\n",
    "\n",
    "\n",
    "result = list(map(lambda x: x * 2 if x > 5 else x * 3, num))\n",
    "print(result)\n",
    "\n",
    "\n",
    "num = [4, 6, 3, 8]\n",
    "f = lambda: lambda x: x * 2 if x > 5 else x * 3\n",
    "result = list(map(f(), num))\n",
    "print(result)"
   ]
  },
  {
   "cell_type": "code",
   "execution_count": null,
   "id": "775cc2fe-669a-42a2-aee8-e33a599f4cdc",
   "metadata": {},
   "outputs": [],
   "source": []
  }
 ],
 "metadata": {
  "kernelspec": {
   "display_name": "Python 3 (ipykernel)",
   "language": "python",
   "name": "python3"
  },
  "language_info": {
   "codemirror_mode": {
    "name": "ipython",
    "version": 3
   },
   "file_extension": ".py",
   "mimetype": "text/x-python",
   "name": "python",
   "nbconvert_exporter": "python",
   "pygments_lexer": "ipython3",
   "version": "3.12.7"
  }
 },
 "nbformat": 4,
 "nbformat_minor": 5
}
