{
 "cells": [
  {
   "cell_type": "code",
   "execution_count": 53,
   "id": "cdd504a5-1b4f-44d7-b683-0e0b18ffa23b",
   "metadata": {},
   "outputs": [
    {
     "name": "stdout",
     "output_type": "stream",
     "text": [
      "Defaulting to user installation because normal site-packages is not writeable\n",
      "Requirement already satisfied: numpy in c:\\programdata\\anaconda3\\lib\\site-packages (1.26.4)\n"
     ]
    }
   ],
   "source": [
    "!pip install numpy"
   ]
  },
  {
   "cell_type": "code",
   "execution_count": 106,
   "id": "5758dd4a-3e0c-42b7-9aa5-a29c241496d8",
   "metadata": {},
   "outputs": [],
   "source": [
    "import numpy as np"
   ]
  },
  {
   "cell_type": "code",
   "execution_count": 57,
   "id": "677783e5-e2aa-4e70-846f-4fbacf494431",
   "metadata": {},
   "outputs": [
    {
     "name": "stdout",
     "output_type": "stream",
     "text": [
      "[1 2 3 4]\n"
     ]
    }
   ],
   "source": [
    "# NumPy example\n",
    "arr = np.array([1, 2, 3, 4])\n",
    "print(arr)"
   ]
  },
  {
   "cell_type": "code",
   "execution_count": 59,
   "id": "7b95c59c-4433-4781-96a1-144a5264607e",
   "metadata": {},
   "outputs": [
    {
     "name": "stdout",
     "output_type": "stream",
     "text": [
      "[ 5 12 21 32]\n",
      "[5, 12, 21, 32]\n"
     ]
    }
   ],
   "source": [
    "#With Numpy\n",
    "a = np.array([1, 2, 3, 4])\n",
    "b = np.array([5, 6, 7, 8])\n",
    "c = a * b\n",
    "print(c)\n",
    "\n",
    "#Without Numpy\n",
    "a = [1, 2, 3, 4]\n",
    "b = [5, 6, 7, 8]\n",
    "c = []\n",
    "for i in range(len(a)):\n",
    "    c.append(a[i] * b[i])\n",
    "print(c)"
   ]
  },
  {
   "cell_type": "code",
   "execution_count": 61,
   "id": "c76e525f-a5e2-435b-98ba-04e5364e3f78",
   "metadata": {},
   "outputs": [
    {
     "name": "stdout",
     "output_type": "stream",
     "text": [
      "Array 1D [1 2 3 4]\n",
      "Array 2D\n",
      " [[1 2]\n",
      " [3 4]]\n"
     ]
    }
   ],
   "source": [
    "a = np.array([1, 2, 3, 4])\n",
    "print(\"Array 1D\",a)\n",
    "\n",
    "b = np.array([[1, 2],[ 3, 4]])\n",
    "print(\"Array 2D\\n\",b)"
   ]
  },
  {
   "cell_type": "code",
   "execution_count": 94,
   "id": "40b39bfc-f4ea-4e5a-9809-f4781c295de8",
   "metadata": {},
   "outputs": [
    {
     "name": "stdout",
     "output_type": "stream",
     "text": [
      "ones \n",
      " [[1. 1. 1. 1. 1. 1.]\n",
      " [1. 1. 1. 1. 1. 1.]\n",
      " [1. 1. 1. 1. 1. 1.]]\n",
      "zeros \n",
      " [[0. 0. 0. 0. 0. 0. 0. 0. 0. 0.]\n",
      " [0. 0. 0. 0. 0. 0. 0. 0. 0. 0.]\n",
      " [0. 0. 0. 0. 0. 0. 0. 0. 0. 0.]\n",
      " [0. 0. 0. 0. 0. 0. 0. 0. 0. 0.]\n",
      " [0. 0. 0. 0. 0. 0. 0. 0. 0. 0.]\n",
      " [0. 0. 0. 0. 0. 0. 0. 0. 0. 0.]\n",
      " [0. 0. 0. 0. 0. 0. 0. 0. 0. 0.]\n",
      " [0. 0. 0. 0. 0. 0. 0. 0. 0. 0.]\n",
      " [0. 0. 0. 0. 0. 0. 0. 0. 0. 0.]\n",
      " [0. 0. 0. 0. 0. 0. 0. 0. 0. 0.]]\n",
      "Identical coordinates: \n",
      " [[1. 0. 0. 0. 0. 0. 0. 0.]\n",
      " [0. 1. 0. 0. 0. 0. 0. 0.]\n",
      " [0. 0. 1. 0. 0. 0. 0. 0.]\n",
      " [0. 0. 0. 1. 0. 0. 0. 0.]\n",
      " [0. 0. 0. 0. 1. 0. 0. 0.]\n",
      " [0. 0. 0. 0. 0. 1. 0. 0.]\n",
      " [0. 0. 0. 0. 0. 0. 1. 0.]\n",
      " [0. 0. 0. 0. 0. 0. 0. 1.]]\n",
      "Array:  [ 0  2  4  6  8 10]\n",
      "linspace [0.   0.25 0.5  0.75 1.  ]\n"
     ]
    }
   ],
   "source": [
    "o= np.ones((3,6))\n",
    "print(\"ones \\n\", o)\n",
    "\n",
    "z= np.zeros((10,10)) \n",
    "print(\"zeros \\n\", z)\n",
    "\n",
    "i = np.eye(8)\n",
    "print(\"Identical coordinates: \\n\", i)\n",
    "\n",
    "r = np.arange(0,11,2) \n",
    "print(\"Array: \", r)\n",
    "\n",
    "seperate= np.linspace (0,1, 5)#creates 5 evenly spaced numbers between 0 and 1 (inclusive).\n",
    "print(\"linspace\", seperate)"
   ]
  },
  {
   "cell_type": "code",
   "execution_count": 102,
   "id": "c416171f-fa48-425e-af39-359214083073",
   "metadata": {},
   "outputs": [
    {
     "name": "stdout",
     "output_type": "stream",
     "text": [
      "Addition :  [ 6  8 10 12]\n",
      "Product :  [ 5 12 21 32]\n",
      "Square :  [ 1  4  9 16]\n",
      "Sin Values :  [ 0.84147098  0.90929743  0.14112001 -0.7568025 ]\n",
      "Mean :  2.5\n",
      "Max :  4\n"
     ]
    }
   ],
   "source": [
    "'''operationms on array using Numpy'''\n",
    "a1 = np.array([1, 2, 3, 4])\n",
    "a2 = np.array([5, 6, 7, 8])\n",
    "print(\"Addition : \", a1 + a2)#The Two lists must in same Size\n",
    "print(\"Product : \", a1 * a2)\n",
    "print(\"Square : \", a1**2)\n",
    "print(\"Sin Values : \" ,np.sin(a1))\n",
    "print(\"Mean : \",np.mean(a1))\n",
    "print(\"Max : \",np.max(a1))"
   ]
  },
  {
   "cell_type": "code",
   "execution_count": 136,
   "id": "bc416cae-d947-4d49-bd58-7348bdcb9554",
   "metadata": {},
   "outputs": [
    {
     "name": "stdout",
     "output_type": "stream",
     "text": [
      "[1 2 3 4 5 6 7 8 9]\n",
      "[[1 2 3]\n",
      " [4 5 6]\n",
      " [7 8 9]]\n",
      "[1 2 3 4 5 6 7 8 9]\n"
     ]
    }
   ],
   "source": [
    "a=np.arange(1,10)\n",
    "print(a)\n",
    "\n",
    "reshaped = a.reshape(3,3)\n",
    "print(reshaped)\n",
    "\n",
    "linear=reshaped.reshape(-1) \n",
    "print(linear)"
   ]
  },
  {
   "cell_type": "code",
   "execution_count": 177,
   "id": "aa25bc20-b18d-4b9e-af0a-5ff46105cee1",
   "metadata": {},
   "outputs": [
    {
     "name": "stdout",
     "output_type": "stream",
     "text": [
      "[1 2 3 4 5 6 7 8 9]\n",
      "[[1 2 3]\n",
      " [4 5 6]\n",
      " [7 8 9]]\n",
      "Element at (1,1): 5\n",
      "[1 2 3 4 5 6 7 8 9]\n",
      "greater than 5: [6 7 8 9]\n",
      "Lesser than 5: [1 2 3 4]\n",
      "Random numbers between 0 to 1: 0.13140539758088354\n",
      "Random numbers between 0 to 1: [0.11510451 0.28020108 0.9025794 ]\n",
      "Random integer between 1 and 100: 78\n",
      "Random integer : [42 66 37]\n",
      "Random 2x3 array of integers between 1 and 100:\n",
      " [[16  1 65]\n",
      " [63 63 53]]\n",
      "[88 97 12 17  8]\n"
     ]
    }
   ],
   "source": [
    "a= np.arange(1,10)\n",
    "print(a)\n",
    "\n",
    "reshaped= a.reshape((3,3))\n",
    "print (reshaped)\n",
    "\n",
    "print(\"Element at (1,1):\", reshaped [1,1])\n",
    "linear= reshaped.flatten()\n",
    "print(linear)\n",
    "\n",
    "print(\"greater than 5:\", linear [linear>5])\n",
    "print(\"Lesser than 5:\", linear [linear<5])\n",
    "\n",
    "print(\"Random numbers between 0 to 1:\", np.random.rand()) \n",
    "print(\"Random numbers between 0 to 1:\", np.random.rand(3)) \n",
    "\n",
    "print(\"Random integer between 1 and 100:\", np.random.randint(1, 100) )# single random int\n",
    "print(\"Random integer :\", np.random.randint(1, 100,size=3) )\n",
    "print(\"Random 2x3 array of integers between 1 and 100:\\n\", np.random.randint(1, 100, size=(2, 3)))\n",
    "\n",
    "\n",
    "a=np.random.randint(1, 100, size=5) \n",
    "print(a)# 5 random integers\n"
   ]
  },
  {
   "cell_type": "code",
   "execution_count": 201,
   "id": "9026a6a3-230c-4700-a007-5f022435a6ff",
   "metadata": {},
   "outputs": [
    {
     "name": "stdout",
     "output_type": "stream",
     "text": [
      "[[ True  True  True]\n",
      " [ True  True  True]\n",
      " [ True  True  True]]\n",
      "[[False False False]\n",
      " [False False False]\n",
      " [False False False]]\n",
      "\n",
      "[[ True  True  True]\n",
      " [ True  True  True]\n",
      " [ True  True  True]]\n",
      "\n",
      "[[ True  True  True]\n",
      " [ True  True  True]\n",
      " [ True  True  True]]\n"
     ]
    }
   ],
   "source": [
    "'''code to print a 3X3 matrix which were filled with boolean value True using numpy'''\n",
    "matrix = np.ones((3, 3), dtype=bool)\n",
    "print(matrix)\n",
    "\n",
    "print()\n",
    "\n",
    "matrix = np.zeros((3, 3), dtype=bool)\n",
    "print(matrix)\n",
    "\n",
    "\n",
    "print()\n",
    "#2\n",
    "matrix = np.full((3, 3), True)\n",
    "print(matrix)\n",
    "\n",
    "#3\n",
    "print()\n",
    "matrix = np.full((3, 3), True,dtype=bool)\n",
    "print(matrix)\n"
   ]
  },
  {
   "cell_type": "code",
   "execution_count": null,
   "id": "d8d316e3-3e01-4cee-82c9-c7109029c418",
   "metadata": {},
   "outputs": [],
   "source": []
  }
 ],
 "metadata": {
  "kernelspec": {
   "display_name": "Python 3 (ipykernel)",
   "language": "python",
   "name": "python3"
  },
  "language_info": {
   "codemirror_mode": {
    "name": "ipython",
    "version": 3
   },
   "file_extension": ".py",
   "mimetype": "text/x-python",
   "name": "python",
   "nbconvert_exporter": "python",
   "pygments_lexer": "ipython3",
   "version": "3.12.7"
  }
 },
 "nbformat": 4,
 "nbformat_minor": 5
}
