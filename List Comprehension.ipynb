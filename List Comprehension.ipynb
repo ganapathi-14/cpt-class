{
 "cells": [
  {
   "cell_type": "code",
   "execution_count": 1,
   "id": "047ecdfc-6c14-4764-a201-6cdb55969b3a",
   "metadata": {},
   "outputs": [
    {
     "name": "stdin",
     "output_type": "stream",
     "text": [
      " 1 2 3 4 5\n"
     ]
    },
    {
     "name": "stdout",
     "output_type": "stream",
     "text": [
      "[1, 2, 3, 4, 5]\n"
     ]
    }
   ],
   "source": [
    "r = [int(x) for x in input().split()[:5]]\n",
    "print(r)\n"
   ]
  },
  {
   "cell_type": "code",
   "execution_count": 2,
   "id": "dbe71dfc-4a66-4072-82b4-264515cd2380",
   "metadata": {},
   "outputs": [
    {
     "name": "stdout",
     "output_type": "stream",
     "text": [
      "['RED', 'GREEN', 'BLUE', 'VIOLET']\n"
     ]
    }
   ],
   "source": [
    "colors = ['red', 'green', 'blue', 'violet']\n",
    "print([color.upper() for color in colors])\n"
   ]
  },
  {
   "cell_type": "code",
   "execution_count": 3,
   "id": "c6f41e96-14a8-4754-a8d8-59b1b3ac8afc",
   "metadata": {},
   "outputs": [
    {
     "name": "stdout",
     "output_type": "stream",
     "text": [
      "[0, 2, 4, 6, 8, 10]\n"
     ]
    }
   ],
   "source": [
    "print([x for x in range(11) if x % 2 == 0])\n"
   ]
  },
  {
   "cell_type": "code",
   "execution_count": 4,
   "id": "9ed034d0-caab-4480-8dcc-e4635e1c4a5f",
   "metadata": {},
   "outputs": [
    {
     "name": "stdout",
     "output_type": "stream",
     "text": [
      "11\n"
     ]
    }
   ],
   "source": [
    "m = [[1,2,3], [4,5,[11,22]], [6,7,8]]\n",
    "print(m[1][2][0])\n"
   ]
  },
  {
   "cell_type": "code",
   "execution_count": 5,
   "id": "5e3d0042-edf3-4d9c-ac6d-28784a34ec32",
   "metadata": {},
   "outputs": [
    {
     "name": "stdin",
     "output_type": "stream",
     "text": [
      "Enter 9 space-separated numbers:  1 2 3 4 5 6 7 8 9\n"
     ]
    },
    {
     "name": "stdout",
     "output_type": "stream",
     "text": [
      "[1, 2, 3]\n",
      "[4, 5, 6]\n",
      "[7, 8, 9]\n"
     ]
    }
   ],
   "source": [
    "user_input = input(\"Enter 9 space-separated numbers: \")\n",
    "numbers = [int(num) for num in user_input.split()]\n",
    "\n",
    "if len(numbers) != 9:\n",
    "    print(\"Please enter exactly 9 numbers.\")\n",
    "else:\n",
    "    matrix = [numbers[i:i+3] for i in range(0, 9, 3)]\n",
    "    for row in matrix:\n",
    "        print(row)\n"
   ]
  },
  {
   "cell_type": "code",
   "execution_count": 6,
   "id": "3c712b61-6537-4264-ba4f-d5fc55d5ac90",
   "metadata": {},
   "outputs": [
    {
     "name": "stdin",
     "output_type": "stream",
     "text": [
      " 1 2 3 4 5 6 7 8 9\n"
     ]
    },
    {
     "name": "stdout",
     "output_type": "stream",
     "text": [
      "3X3 matrix\n",
      "[1, 2, 3]\n",
      "[4, 5, 6]\n",
      "[7, 8, 9]\n"
     ]
    }
   ],
   "source": [
    "nums = [int(x) for x in input().split()[:9]]\n",
    "m = [[nums[i*3 + j] for j in range(3)] for i in range(3)]\n",
    "print(\"3X3 matrix\")\n",
    "for x in m:\n",
    "    print(x)\n"
   ]
  },
  {
   "cell_type": "code",
   "execution_count": 7,
   "id": "30b98c04-6383-42bd-898b-948957d3619a",
   "metadata": {},
   "outputs": [
    {
     "name": "stdin",
     "output_type": "stream",
     "text": [
      " 1 2 3 4 5 6 7 8 9\n"
     ]
    },
    {
     "ename": "NameError",
     "evalue": "name 'i' is not defined",
     "output_type": "error",
     "traceback": [
      "\u001b[31m---------------------------------------------------------------------------\u001b[39m",
      "\u001b[31mNameError\u001b[39m                                 Traceback (most recent call last)",
      "\u001b[36mCell\u001b[39m\u001b[36m \u001b[39m\u001b[32mIn[7]\u001b[39m\u001b[32m, line 4\u001b[39m\n\u001b[32m      1\u001b[39m nums = [\u001b[38;5;28mint\u001b[39m(x) \u001b[38;5;28;01mfor\u001b[39;00m x \u001b[38;5;129;01min\u001b[39;00m \u001b[38;5;28minput\u001b[39m().split()[:\u001b[32m9\u001b[39m]]\n\u001b[32m      2\u001b[39m m = [[nums[i*\u001b[32m3\u001b[39m + j] \u001b[38;5;28;01mfor\u001b[39;00m j \u001b[38;5;129;01min\u001b[39;00m \u001b[38;5;28mrange\u001b[39m(\u001b[32m3\u001b[39m)] \u001b[38;5;28;01mfor\u001b[39;00m i \u001b[38;5;129;01min\u001b[39;00m \u001b[38;5;28mrange\u001b[39m(\u001b[32m3\u001b[39m)]\n\u001b[32m----> \u001b[39m\u001b[32m4\u001b[39m \u001b[38;5;28;01mif\u001b[39;00m m[\u001b[43mi\u001b[49m][j] % \u001b[32m2\u001b[39m == \u001b[32m0\u001b[39m:\n\u001b[32m      5\u001b[39m     \u001b[38;5;28mprint\u001b[39m(\u001b[32m1\u001b[39m)\n\u001b[32m      6\u001b[39m \u001b[38;5;28;01melse\u001b[39;00m:\n",
      "\u001b[31mNameError\u001b[39m: name 'i' is not defined"
     ]
    }
   ],
   "source": [
    "nums = [int(x) for x in input().split()[:9]]\n",
    "m = [[nums[i*3 + j] for j in range(3)] for i in range(3)]\n",
    "\n",
    "if m[i][j] % 2 == 0:\n",
    "    print(1)\n",
    "else:\n",
    "    print(0)\n",
    "\n",
    "print(m)\n"
   ]
  },
  {
   "cell_type": "code",
   "execution_count": 8,
   "id": "4fc92b03-bebe-4992-a7d0-380a0b66e0a5",
   "metadata": {},
   "outputs": [
    {
     "name": "stdin",
     "output_type": "stream",
     "text": [
      "Enter exactly 9 numbers separated by spaces:  1 2 3 4 5 6 7 8 9\n"
     ]
    },
    {
     "name": "stdout",
     "output_type": "stream",
     "text": [
      "\n",
      "Original Matrix (m):\n",
      "[1, 2, 3]\n",
      "[4, 5, 6]\n",
      "[7, 8, 9]\n",
      "\n",
      "Binary Matrix (bm):\n",
      "[1, 0, 1]\n",
      "[0, 1, 0]\n",
      "[1, 0, 1]\n"
     ]
    }
   ],
   "source": [
    "nums_input = input(\"Enter exactly 9 numbers separated by spaces: \")\n",
    "nums = nums_input.split()\n",
    "\n",
    "if len(nums) != 9:\n",
    "    print(\"Error: Please enter exactly 9 numbers.\")\n",
    "else:\n",
    "    numbers = [int(x) for x in nums]\n",
    "\n",
    "    m = []\n",
    "    for i in range(3):\n",
    "        row = []\n",
    "        for j in range(3):\n",
    "            row.append(numbers[i * 3 + j])\n",
    "        m.append(row)\n",
    "\n",
    "    bm = []\n",
    "    for i in range(3):\n",
    "        row = []\n",
    "        for j in range(3):\n",
    "            if m[i][j] % 2 == 0:\n",
    "                row.append(0)\n",
    "            else:\n",
    "                row.append(1)\n",
    "        bm.append(row)\n",
    "\n",
    "    print(\"\\nOriginal Matrix (m):\")\n",
    "    for r in m:\n",
    "        print(r)\n",
    "\n",
    "    print(\"\\nBinary Matrix (bm):\")\n",
    "    for r in bm:\n",
    "        print(r)\n"
   ]
  },
  {
   "cell_type": "code",
   "execution_count": 9,
   "id": "5099f60a-c565-406e-be3b-aef175ed1942",
   "metadata": {},
   "outputs": [
    {
     "name": "stdout",
     "output_type": "stream",
     "text": [
      "* * * * * \n",
      "* *     * \n",
      "* * * * * \n",
      "*     * * \n",
      "* * * * * \n"
     ]
    }
   ],
   "source": [
    "n = 5\n",
    "for i in range(n):\n",
    "    for j in range(n):\n",
    "        if i == 0 or i == n - 1:\n",
    "            print(\"*\", end=' ')\n",
    "        elif j == 0 or j == n - 1:\n",
    "            print(\"*\", end=' ')\n",
    "        elif i == j or i == n - i - 1:\n",
    "            print(\"*\", end=' ')\n",
    "        else:\n",
    "            print(' ', end=' ')\n",
    "    print()\n"
   ]
  },
  {
   "cell_type": "code",
   "execution_count": 10,
   "id": "05d338a6-3efb-4832-a1eb-81e4fcfb035d",
   "metadata": {},
   "outputs": [
    {
     "name": "stdout",
     "output_type": "stream",
     "text": [
      "* * * * * * * * *\n",
      "* * * *   * * * *\n",
      "* * *       * * *\n",
      "* *           * *\n",
      "*               *\n",
      "* *           * *\n",
      "* * *       * * *\n",
      "* * * *   * * * *\n",
      "* * * * * * * * *\n"
     ]
    }
   ],
   "source": [
    "n = 9\n",
    "p = [' '.join(\" \" if(abs(i - n//2) + abs(j - n//2) < n//2) and i != 0 and i != n-1 else \"*\" for j in range(n)) for i in range(n)]\n",
    "for r in p:\n",
    "    print(r)\n"
   ]
  },
  {
   "cell_type": "code",
   "execution_count": null,
   "id": "d5394b1a-6a69-4579-a2bb-d83201a5aaf9",
   "metadata": {},
   "outputs": [],
   "source": []
  }
 ],
 "metadata": {
  "kernelspec": {
   "display_name": "Python 3 (ipykernel)",
   "language": "python",
   "name": "python3"
  },
  "language_info": {
   "codemirror_mode": {
    "name": "ipython",
    "version": 3
   },
   "file_extension": ".py",
   "mimetype": "text/x-python",
   "name": "python",
   "nbconvert_exporter": "python",
   "pygments_lexer": "ipython3",
   "version": "3.12.2"
  }
 },
 "nbformat": 4,
 "nbformat_minor": 5
}
